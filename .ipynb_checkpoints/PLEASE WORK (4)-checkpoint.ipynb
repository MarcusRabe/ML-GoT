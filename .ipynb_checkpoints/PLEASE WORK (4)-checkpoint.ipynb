{
 "cells": [
  {
   "cell_type": "markdown",
   "metadata": {},
   "source": [
    "# Game of Thrones\n",
    "## Challenge\n",
    "There are approximately 2,000 characters in A Song of Ice and Fire by George R.R. Martin. This book series was the inspiration for the HBO series Game of Thrones. Your tasks as a future master of analytics are to predict which characters in the series will live or die, and give data-driven recommendations on how to survive in Game of Thrones. This assignment will encompass feature engineering, variable selection, and model development. .\n",
    "\n",
    "## Deliverables\n",
    "\n",
    "### No 1\n",
    "Analysis Write Up\n",
    "- Summarize the problem\n",
    "- Present key insights that are actionable\n",
    "- Offer implementation recommendations\n",
    "- Maximum of 2 pages double-spaced (A.P.A format)\n",
    "\n",
    "### No 2\n",
    "Data Analysis and Analysis Code\n",
    "- Tell the story of your analysis through:\n",
    " - exploratory data analysis\n",
    " - feature treatment and engineering\n",
    " - utilizing appropriate modeling techniques\n",
    "- Code should:\n",
    " - be well commented\n",
    " - follow PEP 8 guidelines (see myCourses for more details)\n",
    " - run without errors\n",
    " - be submitted as a .py script\n",
    " \n",
    "### No 3\n",
    "Final Model and Model Code\n",
    "- Model will be assessed on:\n",
    " - AUC value on unseen data (randomly seeded)\n",
    " - appropriateness for the problem at hand\n",
    "- Code should:\n",
    " - be well commented\n",
    " - follow PEP 8 guidelines (see myCourses for more details)\n",
    " - run without errors\n",
    " - be submitted as a .py script\n",
    " \n",
    "## Carolina Rios\n",
    "\n",
    "\n",
    "## Data\n",
    "Data File: GOT_character_predictions.xlsx\n",
    "\n",
    "Data Dictionary: GOT_data_dictionary.xlsx\n",
    "\n"
   ]
  },
  {
   "cell_type": "markdown",
   "metadata": {},
   "source": [
    "# Imports"
   ]
  },
  {
   "cell_type": "code",
   "execution_count": 48,
   "metadata": {},
   "outputs": [],
   "source": [
    "import pandas as pd\n",
    "import seaborn as sns\n",
    "import matplotlib.pyplot as plt\n",
    "import numpy as np\n",
    "import shap\n",
    "# prep\n",
    "from sklearn.model_selection import train_test_split\n",
    "from sklearn.model_selection import GridSearchCV\n",
    "# models\n",
    "import xgboost as xgb\n",
    "# metrics\n",
    "from sklearn.model_selection import cross_val_score\n",
    "from sklearn.metrics import roc_auc_score\n",
    "\n",
    "\n",
    "%matplotlib inline"
   ]
  },
  {
   "cell_type": "markdown",
   "metadata": {},
   "source": [
    "# Load and prepare data"
   ]
  },
  {
   "cell_type": "markdown",
   "metadata": {},
   "source": [
    "## Load"
   ]
  },
  {
   "cell_type": "code",
   "execution_count": 2,
   "metadata": {},
   "outputs": [],
   "source": [
    "file = \"GOT_character_predictions.xlsx\"\n",
    "GOT = pd.read_excel(file)"
   ]
  },
  {
   "cell_type": "markdown",
   "metadata": {},
   "source": [
    "## Data Exploration"
   ]
  },
  {
   "cell_type": "code",
   "execution_count": 3,
   "metadata": {},
   "outputs": [
    {
     "data": {
      "text/html": [
       "<div>\n",
       "<style scoped>\n",
       "    .dataframe tbody tr th:only-of-type {\n",
       "        vertical-align: middle;\n",
       "    }\n",
       "\n",
       "    .dataframe tbody tr th {\n",
       "        vertical-align: top;\n",
       "    }\n",
       "\n",
       "    .dataframe thead th {\n",
       "        text-align: right;\n",
       "    }\n",
       "</style>\n",
       "<table border=\"1\" class=\"dataframe\">\n",
       "  <thead>\n",
       "    <tr style=\"text-align: right;\">\n",
       "      <th></th>\n",
       "      <th>S.No</th>\n",
       "      <th>name</th>\n",
       "      <th>title</th>\n",
       "      <th>male</th>\n",
       "      <th>culture</th>\n",
       "      <th>dateOfBirth</th>\n",
       "      <th>mother</th>\n",
       "      <th>father</th>\n",
       "      <th>heir</th>\n",
       "      <th>house</th>\n",
       "      <th>...</th>\n",
       "      <th>isAliveMother</th>\n",
       "      <th>isAliveFather</th>\n",
       "      <th>isAliveHeir</th>\n",
       "      <th>isAliveSpouse</th>\n",
       "      <th>isMarried</th>\n",
       "      <th>isNoble</th>\n",
       "      <th>age</th>\n",
       "      <th>numDeadRelations</th>\n",
       "      <th>popularity</th>\n",
       "      <th>isAlive</th>\n",
       "    </tr>\n",
       "  </thead>\n",
       "  <tbody>\n",
       "    <tr>\n",
       "      <th>0</th>\n",
       "      <td>1739</td>\n",
       "      <td>Imry Florent</td>\n",
       "      <td>Ser</td>\n",
       "      <td>1</td>\n",
       "      <td>NaN</td>\n",
       "      <td>NaN</td>\n",
       "      <td>NaN</td>\n",
       "      <td>NaN</td>\n",
       "      <td>NaN</td>\n",
       "      <td>House Florent</td>\n",
       "      <td>...</td>\n",
       "      <td>NaN</td>\n",
       "      <td>NaN</td>\n",
       "      <td>NaN</td>\n",
       "      <td>NaN</td>\n",
       "      <td>0</td>\n",
       "      <td>1</td>\n",
       "      <td>NaN</td>\n",
       "      <td>0</td>\n",
       "      <td>0.183946</td>\n",
       "      <td>0</td>\n",
       "    </tr>\n",
       "    <tr>\n",
       "      <th>1</th>\n",
       "      <td>1233</td>\n",
       "      <td>Merianne Frey</td>\n",
       "      <td>NaN</td>\n",
       "      <td>0</td>\n",
       "      <td>NaN</td>\n",
       "      <td>288.0</td>\n",
       "      <td>NaN</td>\n",
       "      <td>NaN</td>\n",
       "      <td>NaN</td>\n",
       "      <td>House Frey</td>\n",
       "      <td>...</td>\n",
       "      <td>NaN</td>\n",
       "      <td>NaN</td>\n",
       "      <td>NaN</td>\n",
       "      <td>NaN</td>\n",
       "      <td>0</td>\n",
       "      <td>0</td>\n",
       "      <td>17.0</td>\n",
       "      <td>0</td>\n",
       "      <td>0.083612</td>\n",
       "      <td>1</td>\n",
       "    </tr>\n",
       "    <tr>\n",
       "      <th>2</th>\n",
       "      <td>998</td>\n",
       "      <td>Dolf</td>\n",
       "      <td>NaN</td>\n",
       "      <td>0</td>\n",
       "      <td>Vale mountain clans</td>\n",
       "      <td>NaN</td>\n",
       "      <td>NaN</td>\n",
       "      <td>NaN</td>\n",
       "      <td>NaN</td>\n",
       "      <td>Stone Crows</td>\n",
       "      <td>...</td>\n",
       "      <td>NaN</td>\n",
       "      <td>NaN</td>\n",
       "      <td>NaN</td>\n",
       "      <td>NaN</td>\n",
       "      <td>0</td>\n",
       "      <td>0</td>\n",
       "      <td>NaN</td>\n",
       "      <td>0</td>\n",
       "      <td>0.016722</td>\n",
       "      <td>1</td>\n",
       "    </tr>\n",
       "    <tr>\n",
       "      <th>3</th>\n",
       "      <td>64</td>\n",
       "      <td>Quill</td>\n",
       "      <td>NaN</td>\n",
       "      <td>1</td>\n",
       "      <td>Braavosi</td>\n",
       "      <td>NaN</td>\n",
       "      <td>NaN</td>\n",
       "      <td>NaN</td>\n",
       "      <td>NaN</td>\n",
       "      <td>NaN</td>\n",
       "      <td>...</td>\n",
       "      <td>NaN</td>\n",
       "      <td>NaN</td>\n",
       "      <td>NaN</td>\n",
       "      <td>NaN</td>\n",
       "      <td>0</td>\n",
       "      <td>0</td>\n",
       "      <td>NaN</td>\n",
       "      <td>0</td>\n",
       "      <td>0.016722</td>\n",
       "      <td>1</td>\n",
       "    </tr>\n",
       "    <tr>\n",
       "      <th>4</th>\n",
       "      <td>334</td>\n",
       "      <td>Bandy</td>\n",
       "      <td>NaN</td>\n",
       "      <td>0</td>\n",
       "      <td>Northmen</td>\n",
       "      <td>NaN</td>\n",
       "      <td>NaN</td>\n",
       "      <td>NaN</td>\n",
       "      <td>NaN</td>\n",
       "      <td>House Stark</td>\n",
       "      <td>...</td>\n",
       "      <td>NaN</td>\n",
       "      <td>NaN</td>\n",
       "      <td>NaN</td>\n",
       "      <td>NaN</td>\n",
       "      <td>0</td>\n",
       "      <td>0</td>\n",
       "      <td>NaN</td>\n",
       "      <td>0</td>\n",
       "      <td>0.020067</td>\n",
       "      <td>1</td>\n",
       "    </tr>\n",
       "  </tbody>\n",
       "</table>\n",
       "<p>5 rows × 26 columns</p>\n",
       "</div>"
      ],
      "text/plain": [
       "   S.No           name title  male              culture  dateOfBirth mother  \\\n",
       "0  1739   Imry Florent   Ser     1                  NaN          NaN    NaN   \n",
       "1  1233  Merianne Frey   NaN     0                  NaN        288.0    NaN   \n",
       "2   998           Dolf   NaN     0  Vale mountain clans          NaN    NaN   \n",
       "3    64          Quill   NaN     1             Braavosi          NaN    NaN   \n",
       "4   334          Bandy   NaN     0             Northmen          NaN    NaN   \n",
       "\n",
       "  father heir          house  ... isAliveMother  isAliveFather  isAliveHeir  \\\n",
       "0    NaN  NaN  House Florent  ...           NaN            NaN          NaN   \n",
       "1    NaN  NaN     House Frey  ...           NaN            NaN          NaN   \n",
       "2    NaN  NaN    Stone Crows  ...           NaN            NaN          NaN   \n",
       "3    NaN  NaN            NaN  ...           NaN            NaN          NaN   \n",
       "4    NaN  NaN    House Stark  ...           NaN            NaN          NaN   \n",
       "\n",
       "   isAliveSpouse  isMarried  isNoble   age  numDeadRelations  popularity  \\\n",
       "0            NaN          0        1   NaN                 0    0.183946   \n",
       "1            NaN          0        0  17.0                 0    0.083612   \n",
       "2            NaN          0        0   NaN                 0    0.016722   \n",
       "3            NaN          0        0   NaN                 0    0.016722   \n",
       "4            NaN          0        0   NaN                 0    0.020067   \n",
       "\n",
       "   isAlive  \n",
       "0        0  \n",
       "1        1  \n",
       "2        1  \n",
       "3        1  \n",
       "4        1  \n",
       "\n",
       "[5 rows x 26 columns]"
      ]
     },
     "execution_count": 3,
     "metadata": {},
     "output_type": "execute_result"
    }
   ],
   "source": [
    "GOT.head()"
   ]
  },
  {
   "cell_type": "code",
   "execution_count": 4,
   "metadata": {},
   "outputs": [
    {
     "name": "stdout",
     "output_type": "stream",
     "text": [
      "<class 'pandas.core.frame.DataFrame'>\n",
      "RangeIndex: 1946 entries, 0 to 1945\n",
      "Data columns (total 26 columns):\n",
      "S.No                          1946 non-null int64\n",
      "name                          1946 non-null object\n",
      "title                         938 non-null object\n",
      "male                          1946 non-null int64\n",
      "culture                       677 non-null object\n",
      "dateOfBirth                   433 non-null float64\n",
      "mother                        21 non-null object\n",
      "father                        26 non-null object\n",
      "heir                          23 non-null object\n",
      "house                         1519 non-null object\n",
      "spouse                        276 non-null object\n",
      "book1_A_Game_Of_Thrones       1946 non-null int64\n",
      "book2_A_Clash_Of_Kings        1946 non-null int64\n",
      "book3_A_Storm_Of_Swords       1946 non-null int64\n",
      "book4_A_Feast_For_Crows       1946 non-null int64\n",
      "book5_A_Dance_with_Dragons    1946 non-null int64\n",
      "isAliveMother                 21 non-null float64\n",
      "isAliveFather                 26 non-null float64\n",
      "isAliveHeir                   23 non-null float64\n",
      "isAliveSpouse                 276 non-null float64\n",
      "isMarried                     1946 non-null int64\n",
      "isNoble                       1946 non-null int64\n",
      "age                           433 non-null float64\n",
      "numDeadRelations              1946 non-null int64\n",
      "popularity                    1946 non-null float64\n",
      "isAlive                       1946 non-null int64\n",
      "dtypes: float64(7), int64(11), object(8)\n",
      "memory usage: 395.4+ KB\n"
     ]
    }
   ],
   "source": [
    "GOT.info()"
   ]
  },
  {
   "cell_type": "code",
   "execution_count": 5,
   "metadata": {},
   "outputs": [
    {
     "data": {
      "text/html": [
       "<div>\n",
       "<style scoped>\n",
       "    .dataframe tbody tr th:only-of-type {\n",
       "        vertical-align: middle;\n",
       "    }\n",
       "\n",
       "    .dataframe tbody tr th {\n",
       "        vertical-align: top;\n",
       "    }\n",
       "\n",
       "    .dataframe thead th {\n",
       "        text-align: right;\n",
       "    }\n",
       "</style>\n",
       "<table border=\"1\" class=\"dataframe\">\n",
       "  <thead>\n",
       "    <tr style=\"text-align: right;\">\n",
       "      <th></th>\n",
       "      <th>S.No</th>\n",
       "      <th>male</th>\n",
       "      <th>dateOfBirth</th>\n",
       "      <th>book1_A_Game_Of_Thrones</th>\n",
       "      <th>book2_A_Clash_Of_Kings</th>\n",
       "      <th>book3_A_Storm_Of_Swords</th>\n",
       "      <th>book4_A_Feast_For_Crows</th>\n",
       "      <th>book5_A_Dance_with_Dragons</th>\n",
       "      <th>isAliveMother</th>\n",
       "      <th>isAliveFather</th>\n",
       "      <th>isAliveHeir</th>\n",
       "      <th>isAliveSpouse</th>\n",
       "      <th>isMarried</th>\n",
       "      <th>isNoble</th>\n",
       "      <th>age</th>\n",
       "      <th>numDeadRelations</th>\n",
       "      <th>popularity</th>\n",
       "      <th>isAlive</th>\n",
       "    </tr>\n",
       "  </thead>\n",
       "  <tbody>\n",
       "    <tr>\n",
       "      <th>count</th>\n",
       "      <td>1946.00</td>\n",
       "      <td>1946.00</td>\n",
       "      <td>433.00</td>\n",
       "      <td>1946.0</td>\n",
       "      <td>1946.00</td>\n",
       "      <td>1946.00</td>\n",
       "      <td>1946.00</td>\n",
       "      <td>1946.00</td>\n",
       "      <td>21.00</td>\n",
       "      <td>26.00</td>\n",
       "      <td>23.00</td>\n",
       "      <td>276.00</td>\n",
       "      <td>1946.00</td>\n",
       "      <td>1946.00</td>\n",
       "      <td>433.00</td>\n",
       "      <td>1946.00</td>\n",
       "      <td>1946.00</td>\n",
       "      <td>1946.00</td>\n",
       "    </tr>\n",
       "    <tr>\n",
       "      <th>mean</th>\n",
       "      <td>973.50</td>\n",
       "      <td>0.62</td>\n",
       "      <td>1577.36</td>\n",
       "      <td>0.2</td>\n",
       "      <td>0.37</td>\n",
       "      <td>0.48</td>\n",
       "      <td>0.59</td>\n",
       "      <td>0.40</td>\n",
       "      <td>0.71</td>\n",
       "      <td>0.19</td>\n",
       "      <td>0.65</td>\n",
       "      <td>0.78</td>\n",
       "      <td>0.14</td>\n",
       "      <td>0.46</td>\n",
       "      <td>-1293.56</td>\n",
       "      <td>0.31</td>\n",
       "      <td>0.09</td>\n",
       "      <td>0.75</td>\n",
       "    </tr>\n",
       "    <tr>\n",
       "      <th>std</th>\n",
       "      <td>561.91</td>\n",
       "      <td>0.49</td>\n",
       "      <td>19565.41</td>\n",
       "      <td>0.4</td>\n",
       "      <td>0.48</td>\n",
       "      <td>0.50</td>\n",
       "      <td>0.49</td>\n",
       "      <td>0.49</td>\n",
       "      <td>0.46</td>\n",
       "      <td>0.40</td>\n",
       "      <td>0.49</td>\n",
       "      <td>0.42</td>\n",
       "      <td>0.35</td>\n",
       "      <td>0.50</td>\n",
       "      <td>19564.34</td>\n",
       "      <td>1.38</td>\n",
       "      <td>0.16</td>\n",
       "      <td>0.44</td>\n",
       "    </tr>\n",
       "    <tr>\n",
       "      <th>min</th>\n",
       "      <td>1.00</td>\n",
       "      <td>0.00</td>\n",
       "      <td>-28.00</td>\n",
       "      <td>0.0</td>\n",
       "      <td>0.00</td>\n",
       "      <td>0.00</td>\n",
       "      <td>0.00</td>\n",
       "      <td>0.00</td>\n",
       "      <td>0.00</td>\n",
       "      <td>0.00</td>\n",
       "      <td>0.00</td>\n",
       "      <td>0.00</td>\n",
       "      <td>0.00</td>\n",
       "      <td>0.00</td>\n",
       "      <td>-298001.00</td>\n",
       "      <td>0.00</td>\n",
       "      <td>0.00</td>\n",
       "      <td>0.00</td>\n",
       "    </tr>\n",
       "    <tr>\n",
       "      <th>25%</th>\n",
       "      <td>487.25</td>\n",
       "      <td>0.00</td>\n",
       "      <td>240.00</td>\n",
       "      <td>0.0</td>\n",
       "      <td>0.00</td>\n",
       "      <td>0.00</td>\n",
       "      <td>0.00</td>\n",
       "      <td>0.00</td>\n",
       "      <td>0.00</td>\n",
       "      <td>0.00</td>\n",
       "      <td>0.00</td>\n",
       "      <td>1.00</td>\n",
       "      <td>0.00</td>\n",
       "      <td>0.00</td>\n",
       "      <td>18.00</td>\n",
       "      <td>0.00</td>\n",
       "      <td>0.01</td>\n",
       "      <td>0.00</td>\n",
       "    </tr>\n",
       "    <tr>\n",
       "      <th>50%</th>\n",
       "      <td>973.50</td>\n",
       "      <td>1.00</td>\n",
       "      <td>268.00</td>\n",
       "      <td>0.0</td>\n",
       "      <td>0.00</td>\n",
       "      <td>0.00</td>\n",
       "      <td>1.00</td>\n",
       "      <td>0.00</td>\n",
       "      <td>1.00</td>\n",
       "      <td>0.00</td>\n",
       "      <td>1.00</td>\n",
       "      <td>1.00</td>\n",
       "      <td>0.00</td>\n",
       "      <td>0.00</td>\n",
       "      <td>27.00</td>\n",
       "      <td>0.00</td>\n",
       "      <td>0.03</td>\n",
       "      <td>1.00</td>\n",
       "    </tr>\n",
       "    <tr>\n",
       "      <th>75%</th>\n",
       "      <td>1459.75</td>\n",
       "      <td>1.00</td>\n",
       "      <td>285.00</td>\n",
       "      <td>0.0</td>\n",
       "      <td>1.00</td>\n",
       "      <td>1.00</td>\n",
       "      <td>1.00</td>\n",
       "      <td>1.00</td>\n",
       "      <td>1.00</td>\n",
       "      <td>0.00</td>\n",
       "      <td>1.00</td>\n",
       "      <td>1.00</td>\n",
       "      <td>0.00</td>\n",
       "      <td>1.00</td>\n",
       "      <td>50.00</td>\n",
       "      <td>0.00</td>\n",
       "      <td>0.09</td>\n",
       "      <td>1.00</td>\n",
       "    </tr>\n",
       "    <tr>\n",
       "      <th>max</th>\n",
       "      <td>1946.00</td>\n",
       "      <td>1.00</td>\n",
       "      <td>298299.00</td>\n",
       "      <td>1.0</td>\n",
       "      <td>1.00</td>\n",
       "      <td>1.00</td>\n",
       "      <td>1.00</td>\n",
       "      <td>1.00</td>\n",
       "      <td>1.00</td>\n",
       "      <td>1.00</td>\n",
       "      <td>1.00</td>\n",
       "      <td>1.00</td>\n",
       "      <td>1.00</td>\n",
       "      <td>1.00</td>\n",
       "      <td>100.00</td>\n",
       "      <td>15.00</td>\n",
       "      <td>1.00</td>\n",
       "      <td>1.00</td>\n",
       "    </tr>\n",
       "  </tbody>\n",
       "</table>\n",
       "</div>"
      ],
      "text/plain": [
       "          S.No     male  dateOfBirth  book1_A_Game_Of_Thrones  \\\n",
       "count  1946.00  1946.00       433.00                   1946.0   \n",
       "mean    973.50     0.62      1577.36                      0.2   \n",
       "std     561.91     0.49     19565.41                      0.4   \n",
       "min       1.00     0.00       -28.00                      0.0   \n",
       "25%     487.25     0.00       240.00                      0.0   \n",
       "50%     973.50     1.00       268.00                      0.0   \n",
       "75%    1459.75     1.00       285.00                      0.0   \n",
       "max    1946.00     1.00    298299.00                      1.0   \n",
       "\n",
       "       book2_A_Clash_Of_Kings  book3_A_Storm_Of_Swords  \\\n",
       "count                 1946.00                  1946.00   \n",
       "mean                     0.37                     0.48   \n",
       "std                      0.48                     0.50   \n",
       "min                      0.00                     0.00   \n",
       "25%                      0.00                     0.00   \n",
       "50%                      0.00                     0.00   \n",
       "75%                      1.00                     1.00   \n",
       "max                      1.00                     1.00   \n",
       "\n",
       "       book4_A_Feast_For_Crows  book5_A_Dance_with_Dragons  isAliveMother  \\\n",
       "count                  1946.00                     1946.00          21.00   \n",
       "mean                      0.59                        0.40           0.71   \n",
       "std                       0.49                        0.49           0.46   \n",
       "min                       0.00                        0.00           0.00   \n",
       "25%                       0.00                        0.00           0.00   \n",
       "50%                       1.00                        0.00           1.00   \n",
       "75%                       1.00                        1.00           1.00   \n",
       "max                       1.00                        1.00           1.00   \n",
       "\n",
       "       isAliveFather  isAliveHeir  isAliveSpouse  isMarried  isNoble  \\\n",
       "count          26.00        23.00         276.00    1946.00  1946.00   \n",
       "mean            0.19         0.65           0.78       0.14     0.46   \n",
       "std             0.40         0.49           0.42       0.35     0.50   \n",
       "min             0.00         0.00           0.00       0.00     0.00   \n",
       "25%             0.00         0.00           1.00       0.00     0.00   \n",
       "50%             0.00         1.00           1.00       0.00     0.00   \n",
       "75%             0.00         1.00           1.00       0.00     1.00   \n",
       "max             1.00         1.00           1.00       1.00     1.00   \n",
       "\n",
       "             age  numDeadRelations  popularity  isAlive  \n",
       "count     433.00           1946.00     1946.00  1946.00  \n",
       "mean    -1293.56              0.31        0.09     0.75  \n",
       "std     19564.34              1.38        0.16     0.44  \n",
       "min   -298001.00              0.00        0.00     0.00  \n",
       "25%        18.00              0.00        0.01     0.00  \n",
       "50%        27.00              0.00        0.03     1.00  \n",
       "75%        50.00              0.00        0.09     1.00  \n",
       "max       100.00             15.00        1.00     1.00  "
      ]
     },
     "execution_count": 5,
     "metadata": {},
     "output_type": "execute_result"
    }
   ],
   "source": [
    "GOT.describe().round(2)"
   ]
  },
  {
   "cell_type": "markdown",
   "metadata": {},
   "source": [
    "## Clean data\n",
    "### Title\n",
    "Since there are a lot of titles, only groups with more than 10 entries will be kept. \n",
    "Empty cells will be assumed as \"no tittle\" and will be grouped as na."
   ]
  },
  {
   "cell_type": "code",
   "execution_count": 6,
   "metadata": {},
   "outputs": [
    {
     "data": {
      "text/plain": [
       "Ser                                    384\n",
       "Maester                                 39\n",
       "Archmaester                             21\n",
       "Lord                                    20\n",
       "Septon                                  18\n",
       "Winterfell                              17\n",
       "Princess                                16\n",
       "Lady                                    12\n",
       "Septa                                   10\n",
       "King in the North                        9\n",
       "Lord Commander of the Night's Watch      9\n",
       "Prince                                   9\n",
       "Cupbearer                                8\n",
       "Grand Maester                            8\n",
       "Khal                                     7\n",
       "Bloodrider                               6\n",
       "Prince of Dragonstone                    5\n",
       "Wisdom                                   5\n",
       "Knight                                   5\n",
       "Casterly Rock                            5\n",
       "King-Beyond-the-Wall                     5\n",
       "Eyrie                                    5\n",
       "Lord of the Tides                        4\n",
       "Hand of the King                         4\n",
       "Harrenhal                                4\n",
       "Brother                                  3\n",
       "Lord Paramount of the Mander             3\n",
       "Karhold                                  3\n",
       "Riverrun                                 3\n",
       "Queen                                    3\n",
       "                                      ... \n",
       "[1]                                      1\n",
       "Lord of Sunflower Hall                   1\n",
       "Deepwood Motte                           1\n",
       "Sealskin Point                           1\n",
       "High Septon                              1\n",
       "Three Sisters                            1\n",
       "First Builder                            1\n",
       "Gulltown                                 1\n",
       "Prince of the Narrow Sea                 1\n",
       "Lord of Iron Holt                        1\n",
       "green lands                              1\n",
       "Captain                                  1\n",
       "Dreadfort                                1\n",
       "Master-at-Arms                           1\n",
       "Red Priest                               1\n",
       "Rills                                    1\n",
       "Lord of the Red Dunes                    1\n",
       "Lady of Torrhen's Square                 1\n",
       "Ten Towers                               1\n",
       "Lord of Oldcastle                        1\n",
       "Dyre Den                                 1\n",
       "Lord of Honeyholt                        1\n",
       "The LiddleLord Liddle                    1\n",
       "Hornvale                                 1\n",
       "Serthe Knight of Saltpans                1\n",
       "Slave of R'hllor                         1\n",
       "Sandship                                 1\n",
       "Master of Whisperers                     1\n",
       "Ghost Hill                               1\n",
       "Widow's Watch                            1\n",
       "Name: title, Length: 262, dtype: int64"
      ]
     },
     "execution_count": 6,
     "metadata": {},
     "output_type": "execute_result"
    }
   ],
   "source": [
    "GOT['title'].value_counts()"
   ]
  },
  {
   "cell_type": "code",
   "execution_count": 7,
   "metadata": {
    "scrolled": true
   },
   "outputs": [
    {
     "data": {
      "text/plain": [
       "na                                     1008\n",
       "Ser                                     384\n",
       "Maester                                  39\n",
       "Archmaester                              21\n",
       "Lord                                     20\n",
       "Septon                                   18\n",
       "Winterfell                               17\n",
       "Princess                                 16\n",
       "Lady                                     12\n",
       "Septa                                    10\n",
       "Prince                                    9\n",
       "King in the North                         9\n",
       "Lord Commander of the Night's Watch       9\n",
       "Cupbearer                                 8\n",
       "Grand Maester                             8\n",
       "Khal                                      7\n",
       "Bloodrider                                6\n",
       "Prince of Dragonstone                     5\n",
       "Casterly Rock                             5\n",
       "King-Beyond-the-Wall                      5\n",
       "Knight                                    5\n",
       "Wisdom                                    5\n",
       "Eyrie                                     5\n",
       "Lord of the Tides                         4\n",
       "Hand of the King                          4\n",
       "Harrenhal                                 4\n",
       "Coldmoat                                  3\n",
       "Lord Paramount of the Mander              3\n",
       "Highgarden                                3\n",
       "First Ranger                              3\n",
       "                                       ... \n",
       "[1]                                       1\n",
       "Lord of Sunflower Hall                    1\n",
       "Deepwood Motte                            1\n",
       "Sealskin Point                            1\n",
       "High Septon                               1\n",
       "Three Sisters                             1\n",
       "First Builder                             1\n",
       "Gulltown                                  1\n",
       "Prince of the Narrow Sea                  1\n",
       "Lord of Iron Holt                         1\n",
       "green lands                               1\n",
       "Captain                                   1\n",
       "Dreadfort                                 1\n",
       "Master-at-Arms                            1\n",
       "Red Priest                                1\n",
       "Rills                                     1\n",
       "Lord of the Red Dunes                     1\n",
       "Lady of Torrhen's Square                  1\n",
       "Ten Towers                                1\n",
       "Lord of Oldcastle                         1\n",
       "Dyre Den                                  1\n",
       "Lord of Honeyholt                         1\n",
       "The LiddleLord Liddle                     1\n",
       "Hornvale                                  1\n",
       "Serthe Knight of Saltpans                 1\n",
       "Slave of R'hllor                          1\n",
       "Sandship                                  1\n",
       "Master of Whisperers                      1\n",
       "Ghost Hill                                1\n",
       "Widow's Watch                             1\n",
       "Name: title, Length: 263, dtype: int64"
      ]
     },
     "execution_count": 7,
     "metadata": {},
     "output_type": "execute_result"
    }
   ],
   "source": [
    "GOT['title']= GOT['title'].fillna('na')\n",
    "GOT['title'].value_counts()"
   ]
  },
  {
   "cell_type": "code",
   "execution_count": 8,
   "metadata": {},
   "outputs": [],
   "source": [
    "GOT['title'] = GOT['title'].apply(lambda x : x if x in ['Ser', 'na', 'Maester', 'Archmaester', 'Lord', 'Septon',\n",
    "                                                        'Winterfell', 'Princess', 'Lady', 'Septa'] else 'other')"
   ]
  },
  {
   "cell_type": "code",
   "execution_count": 9,
   "metadata": {
    "scrolled": true
   },
   "outputs": [
    {
     "data": {
      "text/plain": [
       "(array([ 0,  1,  2,  3,  4,  5,  6,  7,  8,  9, 10]),\n",
       " <a list of 11 Text xticklabel objects>)"
      ]
     },
     "execution_count": 9,
     "metadata": {},
     "output_type": "execute_result"
    },
    {
     "data": {
      "image/png": "[encoded data removed]",
      "text/plain": [
       "<Figure size 432x288 with 1 Axes>"
      ]
     },
     "metadata": {
      "needs_background": "light"
     },
     "output_type": "display_data"
    }
   ],
   "source": [
    "sns.countplot(x='title', data=GOT)\n",
    "plt.xticks(rotation=45)"
   ]
  },
  {
   "cell_type": "code",
   "execution_count": 10,
   "metadata": {},
   "outputs": [],
   "source": [
    "dummies = pd.get_dummies(list(GOT['title']), drop_first=True)\n",
    "dummies = dummies.add_prefix('t_')\n",
    "GOT=pd.concat ([GOT.loc[:,:],dummies],axis=1)"
   ]
  },
  {
   "cell_type": "markdown",
   "metadata": {},
   "source": [
    "### Culture\n",
    "Since there are a lot of cultures, only groups with more than 5 entries will be kept. Empty cells will be assumed as \"no culture\" and will be grouped as na."
   ]
  },
  {
   "cell_type": "code",
   "execution_count": 11,
   "metadata": {
    "scrolled": true
   },
   "outputs": [
    {
     "data": {
      "text/plain": [
       "Northmen                   124\n",
       "Ironborn                   112\n",
       "Free Folk                   51\n",
       "Valyrian                    43\n",
       "Braavosi                    42\n",
       "Ghiscari                    25\n",
       "Dornish                     25\n",
       "Dothraki                    23\n",
       "Valemen                     19\n",
       "Rivermen                    19\n",
       "Reach                       16\n",
       "Vale mountain clans         15\n",
       "Dornishmen                  14\n",
       "Westeros                    12\n",
       "Free folk                   11\n",
       "northmen                     9\n",
       "Westerman                    9\n",
       "Stormlands                   7\n",
       "Tyroshi                      7\n",
       "Qartheen                     6\n",
       "Summer Isles                 5\n",
       "Ironmen                      5\n",
       "Northern mountain clans      5\n",
       "Westermen                    4\n",
       "Astapori                     4\n",
       "Crannogmen                   4\n",
       "Lysene                       4\n",
       "Pentoshi                     3\n",
       "Myrish                       3\n",
       "Lyseni                       3\n",
       "                          ... \n",
       "Sistermen                    2\n",
       "westermen                    2\n",
       "Lhazareen                    2\n",
       "Dorne                        2\n",
       "Wildlings                    2\n",
       "Qohor                        2\n",
       "Wildling                     2\n",
       "Asshai                       2\n",
       "Summer Islands               1\n",
       "free folk                    1\n",
       "Braavos                      1\n",
       "Andal                        1\n",
       "Summer Islander              1\n",
       "Reachmen                     1\n",
       "Meereen                      1\n",
       "Stormlander                  1\n",
       "Norvos                       1\n",
       "The Reach                    1\n",
       "Vale                         1\n",
       "ironborn                     1\n",
       "Astapor                      1\n",
       "Lhazarene                    1\n",
       "Ghiscaricari                 1\n",
       "Naathi                       1\n",
       "Norvoshi                     1\n",
       "Rhoynar                      1\n",
       "Asshai'i                     1\n",
       "Andals                       1\n",
       "Ibbenese                     1\n",
       "Qarth                        1\n",
       "Name: culture, Length: 64, dtype: int64"
      ]
     },
     "execution_count": 11,
     "metadata": {},
     "output_type": "execute_result"
    }
   ],
   "source": [
    "GOT['culture'].value_counts()"
   ]
  },
  {
   "cell_type": "code",
   "execution_count": 12,
   "metadata": {},
   "outputs": [
    {
     "data": {
      "text/plain": [
       "na                         1269\n",
       "Northmen                    124\n",
       "Ironborn                    112\n",
       "Free Folk                    51\n",
       "Valyrian                     43\n",
       "Braavosi                     42\n",
       "Ghiscari                     25\n",
       "Dornish                      25\n",
       "Dothraki                     23\n",
       "Rivermen                     19\n",
       "Valemen                      19\n",
       "Reach                        16\n",
       "Vale mountain clans          15\n",
       "Dornishmen                   14\n",
       "Westeros                     12\n",
       "Free folk                    11\n",
       "Westerman                     9\n",
       "northmen                      9\n",
       "Stormlands                    7\n",
       "Tyroshi                       7\n",
       "Qartheen                      6\n",
       "Summer Isles                  5\n",
       "Ironmen                       5\n",
       "Northern mountain clans       5\n",
       "Astapori                      4\n",
       "Crannogmen                    4\n",
       "Westermen                     4\n",
       "Lysene                        4\n",
       "Myrish                        3\n",
       "Pentoshi                      3\n",
       "                           ... \n",
       "Sistermen                     2\n",
       "Qohor                         2\n",
       "Wildlings                     2\n",
       "Dorne                         2\n",
       "Lhazareen                     2\n",
       "Wildling                      2\n",
       "Westerlands                   2\n",
       "westermen                     2\n",
       "free folk                     1\n",
       "Reachmen                      1\n",
       "Braavos                       1\n",
       "Summer Islands                1\n",
       "Summer Islander               1\n",
       "Meereen                       1\n",
       "Andal                         1\n",
       "Stormlander                   1\n",
       "Norvos                        1\n",
       "The Reach                     1\n",
       "Vale                          1\n",
       "ironborn                      1\n",
       "Astapor                       1\n",
       "Lhazarene                     1\n",
       "Ghiscaricari                  1\n",
       "Naathi                        1\n",
       "Norvoshi                      1\n",
       "Rhoynar                       1\n",
       "Asshai'i                      1\n",
       "Andals                        1\n",
       "Ibbenese                      1\n",
       "Qarth                         1\n",
       "Name: culture, Length: 65, dtype: int64"
      ]
     },
     "execution_count": 12,
     "metadata": {},
     "output_type": "execute_result"
    }
   ],
   "source": [
    "GOT['culture']= GOT['culture'].fillna('na')\n",
    "GOT['culture'].value_counts()"
   ]
  },
  {
   "cell_type": "code",
   "execution_count": 13,
   "metadata": {},
   "outputs": [],
   "source": [
    "#Eliminating spaces since they cause errors when executing the code\n",
    "GOT['culture']=GOT['culture'].replace({'northmen':'Northmen',\n",
    "                                       'Free folk':'Free_Folk',\n",
    "                                       'Free Folk':'Free_Folk',\n",
    "                                       'Vale mountain clans': 'Vale_mountain'}) "
   ]
  },
  {
   "cell_type": "code",
   "execution_count": 14,
   "metadata": {},
   "outputs": [],
   "source": [
    "dd = ['na', 'Northmen', 'Ironborn',  'Valyrian',\n",
    "                                                            'Braavosi', 'Ghiscari', 'Dornish', 'Dothraki', 'Valemen',\n",
    "                                                           'Rivermen', 'Reach', 'Dornishmen', 'Westeros', \n",
    "                                                           'Westerman', 'Free_Folk', 'Vale_mountain']\n",
    "GOT['culture'] = GOT['culture'].apply(lambda x : x if x in dd else 'other')"
   ]
  },
  {
   "cell_type": "code",
   "execution_count": 15,
   "metadata": {},
   "outputs": [
    {
     "data": {
      "text/plain": [
       "(array([ 0,  1,  2,  3,  4,  5,  6,  7,  8,  9, 10, 11, 12, 13, 14, 15, 16]),\n",
       " <a list of 17 Text xticklabel objects>)"
      ]
     },
     "execution_count": 15,
     "metadata": {},
     "output_type": "execute_result"
    },
    {
     "data": {
      "image/png": "[encoded data removed]",
      "text/plain": [
       "<Figure size 432x288 with 1 Axes>"
      ]
     },
     "metadata": {
      "needs_background": "light"
     },
     "output_type": "display_data"
    }
   ],
   "source": [
    "sns.countplot(x='culture', data=GOT)\n",
    "plt.xticks(rotation=45)"
   ]
  },
  {
   "cell_type": "code",
   "execution_count": 16,
   "metadata": {},
   "outputs": [],
   "source": [
    "dummies = pd.get_dummies(list(GOT['culture']), drop_first=True)\n",
    "dummies = dummies.add_prefix('c_')\n",
    "GOT=pd.concat ([GOT.loc[:,:],dummies],axis=1)"
   ]
  },
  {
   "cell_type": "markdown",
   "metadata": {},
   "source": [
    "### House\n",
    "Since there are a lot of houses, only groups with 10 or more entries will be kept. \n",
    "Empty cells will be assumed as \"no house\" and will be grouped as na"
   ]
  },
  {
   "cell_type": "code",
   "execution_count": 17,
   "metadata": {},
   "outputs": [
    {
     "data": {
      "text/plain": [
       "na                                   427\n",
       "Night's Watch                        105\n",
       "House Frey                            97\n",
       "House Stark                           72\n",
       "House Targaryen                       62\n",
       "House Lannister                       49\n",
       "House Greyjoy                         41\n",
       "House Tyrell                          36\n",
       "House Martell                         29\n",
       "House Osgrey                          21\n",
       "Faith of the Seven                    17\n",
       "House Arryn                           16\n",
       "House Hightower                       16\n",
       "House Bracken                         14\n",
       "House Botley                          13\n",
       "House Bolton                          13\n",
       "House Baratheon                       13\n",
       "House Florent                         13\n",
       "House Tully                           12\n",
       "Brave Companions                      12\n",
       "House Whent                           11\n",
       "House Velaryon                        11\n",
       "Brotherhood without banners           11\n",
       "House Crakehall                       10\n",
       "House Clegane                          9\n",
       "House Westerling                       9\n",
       "House Baratheon of Dragonstone         9\n",
       "House Royce                            9\n",
       "Stone Crows                            9\n",
       "House Seaworth                         9\n",
       "                                    ... \n",
       "House Cupps                            1\n",
       "House Vyrwel                           1\n",
       "House Foote                            1\n",
       "House Graceford                        1\n",
       "House Ball                             1\n",
       "House Woods                            1\n",
       "House Mertyns                          1\n",
       "Thirteen                               1\n",
       "House Mollen                           1\n",
       "House Trant                            1\n",
       "Brotherhood without Banners            1\n",
       "Company of the Cat                     1\n",
       "House Hasty                            1\n",
       "House Banefort                         1\n",
       "House Boggs                            1\n",
       "House Lannister of Lannisport          1\n",
       "House Byrch                            1\n",
       "House Reyne                            1\n",
       "House Bywater                          1\n",
       "House Conklyn                          1\n",
       "House Harclay                          1\n",
       "House Wagstaff                         1\n",
       "House Sawyer                           1\n",
       "House Rambton                          1\n",
       "House Toland                           1\n",
       "House Gaunt                            1\n",
       "House of Ghazeen                       1\n",
       "House Deddings                         1\n",
       "House Goodbrother of Shatterstone      1\n",
       "House Pemford                          1\n",
       "Name: house, Length: 348, dtype: int64"
      ]
     },
     "execution_count": 17,
     "metadata": {},
     "output_type": "execute_result"
    }
   ],
   "source": [
    "GOT['house']= GOT['house'].fillna('na')\n",
    "GOT['house'].value_counts()"
   ]
  },
  {
   "cell_type": "code",
   "execution_count": 18,
   "metadata": {},
   "outputs": [],
   "source": [
    "GOT['house']=GOT['house'].replace({\"Night's Watch\":\"the_Watch\",\n",
    "                                       'House Frey':'Frey',\n",
    "                                       'House Stark':'Stark',\n",
    "                                       'House Targaryen':'Targaryen',\n",
    "                                       'House Lannister':'Lannister',\n",
    "                                       'House Greyjoy':'Greyjoy',\n",
    "                                       'House Tyrell':'Tyrell',\n",
    "                                       'House Martell':'Martell',\n",
    "                                       'House Osgrey':'Osgrey ',\n",
    "                                       'Faith of the Seven':'Faith_of_the_Seven',\n",
    "                                       'House Hightower':'Hightower',\n",
    "                                       'House Arryn':'Arryn',\n",
    "                                       'House Bracken':'Bracken',\n",
    "                                       'House Florent':'Florent',\n",
    "                                       'House Botley':'Botley',\n",
    "                                       'House Baratheon':'Baratheon',\n",
    "                                       'House Bolton':'Bolton',\n",
    "                                       'Brave Companions':'Brave_Companions',\n",
    "                                       'House Tully':'Tully',\n",
    "                                       'House Whent':'Whent',\n",
    "                                       'Brotherhood without banners':'Brotherhood',\n",
    "                                       'House Velaryon':'Velaryon',\n",
    "                                       'House Crakehall':'Crakehall'})\n"
   ]
  },
  {
   "cell_type": "code",
   "execution_count": 19,
   "metadata": {},
   "outputs": [],
   "source": [
    "GOT['house'] = GOT['house'].apply(lambda x : x if x in ['na', \"the_Watch\", 'Frey', 'Stark', 'Targaryen',\n",
    "                                                            'Lannister', 'Greyjoy', 'Tyrell', 'Martell',\n",
    "                                                           'Osgrey', 'Faith_of_the_Seven','Hightower', 'Arryn', \n",
    "                                                            'Bracken', 'Florent', 'Botley', 'Baratheon',\n",
    "                                                        'Bolton', 'Brave_Companions', 'Tully', 'Whent', \n",
    "                                                        'Brotherhood', 'Velaryon', 'Crakehall'] else 'other')"
   ]
  },
  {
   "cell_type": "code",
   "execution_count": 20,
   "metadata": {},
   "outputs": [
    {
     "data": {
      "text/plain": [
       "(array([ 0,  1,  2,  3,  4,  5,  6,  7,  8,  9, 10, 11, 12, 13, 14, 15, 16,\n",
       "        17, 18, 19, 20, 21, 22, 23]), <a list of 24 Text xticklabel objects>)"
      ]
     },
     "execution_count": 20,
     "metadata": {},
     "output_type": "execute_result"
    },
    {
     "data": {
      "image/png": "[encoded data removed]",
      "text/plain": [
       "<Figure size 432x288 with 1 Axes>"
      ]
     },
     "metadata": {
      "needs_background": "light"
     },
     "output_type": "display_data"
    }
   ],
   "source": [
    "sns.countplot(x='house', data=GOT)\n",
    "plt.xticks(rotation=45)"
   ]
  },
  {
   "cell_type": "code",
   "execution_count": 21,
   "metadata": {},
   "outputs": [],
   "source": [
    "dummies = pd.get_dummies(list(GOT['house']), drop_first=True)\n",
    "dummies = dummies.add_prefix('h_')\n",
    "GOT=pd.concat ([GOT.loc[:,:],dummies],axis=1)"
   ]
  },
  {
   "cell_type": "markdown",
   "metadata": {},
   "source": [
    "### Variables that will be dropped\n",
    "Since \"Mother\", \"Father\", \"Heir\" and \"Spouce\" have a low number of data points, they will be dropped."
   ]
  },
  {
   "cell_type": "code",
   "execution_count": 22,
   "metadata": {},
   "outputs": [],
   "source": [
    "GOT=GOT.drop(['mother', 'father', 'heir', 'spouse'], axis=1)"
   ]
  },
  {
   "cell_type": "markdown",
   "metadata": {},
   "source": [
    "### Date of death\n",
    "A date of death calculated from the dateOfBirth and age, we can assume that if a character's date of death (DoD) is equal than the maximum date of death calculated, the character is still alive."
   ]
  },
  {
   "cell_type": "code",
   "execution_count": 23,
   "metadata": {},
   "outputs": [],
   "source": [
    "GOT['DoD']= GOT.apply((lambda x: np.nan if (pd.isna(x['age']) or pd.isna(x['dateOfBirth'])) else x['dateOfBirth'] + x['age']), axis=1)"
   ]
  },
  {
   "cell_type": "code",
   "execution_count": 24,
   "metadata": {},
   "outputs": [
    {
     "data": {
      "text/plain": [
       "305.0    270\n",
       "299.0     36\n",
       "300.0     26\n",
       "130.0      8\n",
       "298.0      6\n",
       "283.0      5\n",
       "209.0      5\n",
       "196.0      4\n",
       "120.0      3\n",
       "297.0      3\n",
       "129.0      3\n",
       "271.0      3\n",
       "282.0      3\n",
       "105.0      2\n",
       "289.0      2\n",
       "133.0      2\n",
       "276.0      2\n",
       "278.0      2\n",
       "261.0      2\n",
       "252.0      2\n",
       "216.0      2\n",
       "264.0      2\n",
       "132.0      1\n",
       "248.0      1\n",
       "161.0      1\n",
       "256.0      1\n",
       "178.0      1\n",
       "220.0      1\n",
       "296.0      1\n",
       "272.0      1\n",
       "        ... \n",
       "47.0       1\n",
       "82.0       1\n",
       "43.0       1\n",
       "232.0      1\n",
       "114.0      1\n",
       "44.0       1\n",
       "281.0      1\n",
       "255.0      1\n",
       "285.0      1\n",
       "245.0      1\n",
       "191.0      1\n",
       "290.0      1\n",
       "247.0      1\n",
       "249.0      1\n",
       "257.0      1\n",
       "171.0      1\n",
       "211.0      1\n",
       "273.0      1\n",
       "284.0      1\n",
       "213.0      1\n",
       "221.0      1\n",
       "238.0      1\n",
       "150.0      1\n",
       "225.0      1\n",
       "260.0      1\n",
       "267.0      1\n",
       "291.0      1\n",
       "259.0      1\n",
       "215.0      1\n",
       "241.0      1\n",
       "Name: DoD, Length: 62, dtype: int64"
      ]
     },
     "execution_count": 24,
     "metadata": {},
     "output_type": "execute_result"
    }
   ],
   "source": [
    "GOT['DoD'].value_counts()"
   ]
  },
  {
   "cell_type": "code",
   "execution_count": 25,
   "metadata": {},
   "outputs": [],
   "source": [
    "variable = GOT['DoD'].value_counts()[GOT['DoD'].value_counts() > 3]\n",
    "GOT['reason'] = GOT['DoD'].apply(lambda x: 1 if x in variable.index else 0)"
   ]
  },
  {
   "cell_type": "markdown",
   "metadata": {},
   "source": [
    "### Date of Birth"
   ]
  },
  {
   "cell_type": "code",
   "execution_count": 26,
   "metadata": {},
   "outputs": [
    {
     "data": {
      "text/plain": [
       "count       433.000000\n",
       "mean       1577.364896\n",
       "std       19565.414460\n",
       "min         -28.000000\n",
       "25%         240.000000\n",
       "50%         268.000000\n",
       "75%         285.000000\n",
       "max      298299.000000\n",
       "Name: dateOfBirth, dtype: float64"
      ]
     },
     "execution_count": 26,
     "metadata": {},
     "output_type": "execute_result"
    }
   ],
   "source": [
    "GOT['dateOfBirth'].describe()"
   ]
  },
  {
   "cell_type": "markdown",
   "metadata": {},
   "source": [
    "The max date of birth does not make sense, we can assume that there is a typo and keep only the last three digits."
   ]
  },
  {
   "cell_type": "code",
   "execution_count": 27,
   "metadata": {},
   "outputs": [],
   "source": [
    "GOT['dateOfBirth'] = GOT['dateOfBirth'].apply(lambda x: x if np.isnan(x) else (int(str(x)[:3]) if (len(str(x).split('.')[0]) > 3) else int(str(x).split('.')[0])))"
   ]
  },
  {
   "cell_type": "code",
   "execution_count": 28,
   "metadata": {},
   "outputs": [
    {
     "data": {
      "text/plain": [
       "count    433.000000\n",
       "mean     247.106236\n",
       "std       59.341352\n",
       "min      -28.000000\n",
       "25%      240.000000\n",
       "50%      268.000000\n",
       "75%      285.000000\n",
       "max      300.000000\n",
       "Name: dateOfBirth, dtype: float64"
      ]
     },
     "execution_count": 28,
     "metadata": {},
     "output_type": "execute_result"
    }
   ],
   "source": [
    "GOT['dateOfBirth'].describe()"
   ]
  },
  {
   "cell_type": "markdown",
   "metadata": {},
   "source": [
    "### Number of books"
   ]
  },
  {
   "cell_type": "code",
   "execution_count": 29,
   "metadata": {},
   "outputs": [],
   "source": [
    "GOT ['Books']= GOT['book1_A_Game_Of_Thrones']+GOT['book2_A_Clash_Of_Kings']+ GOT['book3_A_Storm_Of_Swords'] + GOT['book4_A_Feast_For_Crows'] + GOT['book5_A_Dance_with_Dragons']"
   ]
  },
  {
   "cell_type": "code",
   "execution_count": 30,
   "metadata": {},
   "outputs": [
    {
     "data": {
      "text/plain": [
       "<matplotlib.legend.Legend at 0x1a17ee61d0>"
      ]
     },
     "execution_count": 30,
     "metadata": {},
     "output_type": "execute_result"
    },
    {
     "data": {
      "image/png": "[encoded data removed]",
      "text/plain": [
       "<Figure size 1080x576 with 1 Axes>"
      ]
     },
     "metadata": {
      "needs_background": "light"
     },
     "output_type": "display_data"
    }
   ],
   "source": [
    "a = GOT.groupby([\"Books\", \"isAlive\"]).count()[\"S.No\"].unstack().copy(deep = True)\n",
    "n = a.div(a.sum(axis = 1),\n",
    "          axis = 0).plot.barh(stacked = True,\n",
    "                              rot = 0,\n",
    "                              figsize = (15, 8),\n",
    "                              width = .5)\n",
    "_ = n.set(xticklabels = \"\",\n",
    "          xlim = [0, 1],\n",
    "          ylabel = \"No. of Books\",\n",
    "          xlabel = \"Proportion of Dead vs. Alive\"),\n",
    "n.legend([\"Dead\", \"Alive\"],\n",
    "         loc = \"upper right\",\n",
    "         ncol = 2,\n",
    "         borderpad = -.15)\n"
   ]
  },
  {
   "cell_type": "markdown",
   "metadata": {},
   "source": [
    "### Variables that will be dropped\n",
    "Since \"isAliveMother\", \"isAliveFather\", \"isAliveHeir\", \"isAliveSpouce\", \"isMarried\", and \"isNoble\" have a low number of data points, they will be dropped."
   ]
  },
  {
   "cell_type": "code",
   "execution_count": 31,
   "metadata": {},
   "outputs": [],
   "source": [
    "GOT=GOT.drop(['isAliveMother', 'isAliveFather', 'isAliveHeir', 'isAliveSpouse','isMarried',\"isNoble\"], axis=1)"
   ]
  },
  {
   "cell_type": "markdown",
   "metadata": {},
   "source": [
    "### Age\n",
    "We use the values from the DateOfDeath to replace age according to the replaced dateOfBirth and the DateOfDeath calculated."
   ]
  },
  {
   "cell_type": "code",
   "execution_count": 32,
   "metadata": {},
   "outputs": [],
   "source": [
    "GOT['age'] = GOT['age'].where(GOT['age'] > 0, GOT['DoD'] - GOT ['dateOfBirth'])"
   ]
  },
  {
   "cell_type": "code",
   "execution_count": 33,
   "metadata": {},
   "outputs": [
    {
     "data": {
      "text/plain": [
       "count    433.000000\n",
       "mean      36.695150\n",
       "std       25.827229\n",
       "min        0.000000\n",
       "25%       18.000000\n",
       "50%       27.000000\n",
       "75%       50.000000\n",
       "max      100.000000\n",
       "Name: age, dtype: float64"
      ]
     },
     "execution_count": 33,
     "metadata": {},
     "output_type": "execute_result"
    }
   ],
   "source": [
    "GOT['age'].describe()"
   ]
  },
  {
   "cell_type": "markdown",
   "metadata": {},
   "source": [
    "### Current year"
   ]
  },
  {
   "cell_type": "code",
   "execution_count": 34,
   "metadata": {},
   "outputs": [],
   "source": [
    "GOT['currYear'] = GOT ['DoD'] == 305"
   ]
  },
  {
   "cell_type": "code",
   "execution_count": 35,
   "metadata": {},
   "outputs": [
    {
     "data": {
      "text/plain": [
       "<matplotlib.axes._subplots.AxesSubplot at 0x1a17e40ac8>"
      ]
     },
     "execution_count": 35,
     "metadata": {},
     "output_type": "execute_result"
    },
    {
     "data": {
      "image/png": "[encoded data removed]",
      "text/plain": [
       "<Figure size 432x288 with 1 Axes>"
      ]
     },
     "metadata": {
      "needs_background": "light"
     },
     "output_type": "display_data"
    }
   ],
   "source": [
    "sns.distplot(GOT['numDeadRelations'])"
   ]
  },
  {
   "cell_type": "markdown",
   "metadata": {},
   "source": [
    "### Has relations?\n",
    "Check if a character has relations to other dead characters"
   ]
  },
  {
   "cell_type": "code",
   "execution_count": 36,
   "metadata": {},
   "outputs": [],
   "source": [
    "GOT['hasRelations'] = GOT['numDeadRelations'].apply(lambda x: 1 if x> 0 else 0)"
   ]
  },
  {
   "cell_type": "code",
   "execution_count": 37,
   "metadata": {},
   "outputs": [
    {
     "data": {
      "text/plain": [
       "<matplotlib.legend.Legend at 0x1a185c00f0>"
      ]
     },
     "execution_count": 37,
     "metadata": {},
     "output_type": "execute_result"
    },
    {
     "data": {
      "image/png": "[encoded data removed]",
      "text/plain": [
       "<Figure size 1080x576 with 1 Axes>"
      ]
     },
     "metadata": {
      "needs_background": "light"
     },
     "output_type": "display_data"
    }
   ],
   "source": [
    "a = GOT.groupby([\"hasRelations\", \"isAlive\"]).count()[\"S.No\"].unstack().copy(deep = True)\n",
    "n = a.div(a.sum(axis = 1),\n",
    "          axis = 0).plot.barh(stacked = True,\n",
    "                              rot = 0,\n",
    "                              figsize = (15, 8),\n",
    "                              width = .5)\n",
    "_ = n.set(xticklabels = \"\",\n",
    "          xlim = [0, 1],\n",
    "          ylabel = \"Has relations?\",\n",
    "          xlabel = \"Proportion of has Dead vs. Alive\"),\n",
    "n.legend([\"Dead\", \"Alive\"],\n",
    "         loc = \"upper right\",\n",
    "         ncol = 2,\n",
    "         borderpad = -.15)"
   ]
  },
  {
   "cell_type": "markdown",
   "metadata": {},
   "source": [
    "### Popularity"
   ]
  },
  {
   "cell_type": "markdown",
   "metadata": {},
   "source": [
    "No need to work on it"
   ]
  },
  {
   "cell_type": "code",
   "execution_count": 38,
   "metadata": {},
   "outputs": [
    {
     "name": "stdout",
     "output_type": "stream",
     "text": [
      "<class 'pandas.core.frame.DataFrame'>\n",
      "RangeIndex: 1946 entries, 0 to 1945\n",
      "Data columns (total 70 columns):\n",
      "S.No                          1946 non-null int64\n",
      "name                          1946 non-null object\n",
      "title                         1946 non-null object\n",
      "male                          1946 non-null int64\n",
      "culture                       1946 non-null object\n",
      "dateOfBirth                   433 non-null float64\n",
      "house                         1946 non-null object\n",
      "book1_A_Game_Of_Thrones       1946 non-null int64\n",
      "book2_A_Clash_Of_Kings        1946 non-null int64\n",
      "book3_A_Storm_Of_Swords       1946 non-null int64\n",
      "book4_A_Feast_For_Crows       1946 non-null int64\n",
      "book5_A_Dance_with_Dragons    1946 non-null int64\n",
      "age                           433 non-null float64\n",
      "numDeadRelations              1946 non-null int64\n",
      "popularity                    1946 non-null float64\n",
      "isAlive                       1946 non-null int64\n",
      "t_Lady                        1946 non-null uint8\n",
      "t_Lord                        1946 non-null uint8\n",
      "t_Maester                     1946 non-null uint8\n",
      "t_Princess                    1946 non-null uint8\n",
      "t_Septa                       1946 non-null uint8\n",
      "t_Septon                      1946 non-null uint8\n",
      "t_Ser                         1946 non-null uint8\n",
      "t_Winterfell                  1946 non-null uint8\n",
      "t_na                          1946 non-null uint8\n",
      "t_other                       1946 non-null uint8\n",
      "c_Dornish                     1946 non-null uint8\n",
      "c_Dornishmen                  1946 non-null uint8\n",
      "c_Dothraki                    1946 non-null uint8\n",
      "c_Free_Folk                   1946 non-null uint8\n",
      "c_Ghiscari                    1946 non-null uint8\n",
      "c_Ironborn                    1946 non-null uint8\n",
      "c_Northmen                    1946 non-null uint8\n",
      "c_Reach                       1946 non-null uint8\n",
      "c_Rivermen                    1946 non-null uint8\n",
      "c_Vale_mountain               1946 non-null uint8\n",
      "c_Valemen                     1946 non-null uint8\n",
      "c_Valyrian                    1946 non-null uint8\n",
      "c_Westerman                   1946 non-null uint8\n",
      "c_Westeros                    1946 non-null uint8\n",
      "c_na                          1946 non-null uint8\n",
      "c_other                       1946 non-null uint8\n",
      "h_Baratheon                   1946 non-null uint8\n",
      "h_Bolton                      1946 non-null uint8\n",
      "h_Botley                      1946 non-null uint8\n",
      "h_Bracken                     1946 non-null uint8\n",
      "h_Brave_Companions            1946 non-null uint8\n",
      "h_Brotherhood                 1946 non-null uint8\n",
      "h_Crakehall                   1946 non-null uint8\n",
      "h_Faith_of_the_Seven          1946 non-null uint8\n",
      "h_Florent                     1946 non-null uint8\n",
      "h_Frey                        1946 non-null uint8\n",
      "h_Greyjoy                     1946 non-null uint8\n",
      "h_Hightower                   1946 non-null uint8\n",
      "h_Lannister                   1946 non-null uint8\n",
      "h_Martell                     1946 non-null uint8\n",
      "h_Stark                       1946 non-null uint8\n",
      "h_Targaryen                   1946 non-null uint8\n",
      "h_Tully                       1946 non-null uint8\n",
      "h_Tyrell                      1946 non-null uint8\n",
      "h_Velaryon                    1946 non-null uint8\n",
      "h_Whent                       1946 non-null uint8\n",
      "h_na                          1946 non-null uint8\n",
      "h_other                       1946 non-null uint8\n",
      "h_the_Watch                   1946 non-null uint8\n",
      "DoD                           433 non-null float64\n",
      "reason                        1946 non-null int64\n",
      "Books                         1946 non-null int64\n",
      "currYear                      1946 non-null bool\n",
      "hasRelations                  1946 non-null int64\n",
      "dtypes: bool(1), float64(4), int64(12), object(4), uint8(49)\n",
      "memory usage: 399.2+ KB\n"
     ]
    }
   ],
   "source": [
    "GOT.info()\n",
    "GOT=GOT.drop(['name','title','culture','house', 'S.No'], axis=1)"
   ]
  },
  {
   "cell_type": "code",
   "execution_count": 39,
   "metadata": {},
   "outputs": [
    {
     "name": "stdout",
     "output_type": "stream",
     "text": [
      "<class 'pandas.core.frame.DataFrame'>\n",
      "RangeIndex: 1946 entries, 0 to 1945\n",
      "Data columns (total 65 columns):\n",
      "male                          1946 non-null int64\n",
      "dateOfBirth                   433 non-null float64\n",
      "book1_A_Game_Of_Thrones       1946 non-null int64\n",
      "book2_A_Clash_Of_Kings        1946 non-null int64\n",
      "book3_A_Storm_Of_Swords       1946 non-null int64\n",
      "book4_A_Feast_For_Crows       1946 non-null int64\n",
      "book5_A_Dance_with_Dragons    1946 non-null int64\n",
      "age                           433 non-null float64\n",
      "numDeadRelations              1946 non-null int64\n",
      "popularity                    1946 non-null float64\n",
      "isAlive                       1946 non-null int64\n",
      "t_Lady                        1946 non-null uint8\n",
      "t_Lord                        1946 non-null uint8\n",
      "t_Maester                     1946 non-null uint8\n",
      "t_Princess                    1946 non-null uint8\n",
      "t_Septa                       1946 non-null uint8\n",
      "t_Septon                      1946 non-null uint8\n",
      "t_Ser                         1946 non-null uint8\n",
      "t_Winterfell                  1946 non-null uint8\n",
      "t_na                          1946 non-null uint8\n",
      "t_other                       1946 non-null uint8\n",
      "c_Dornish                     1946 non-null uint8\n",
      "c_Dornishmen                  1946 non-null uint8\n",
      "c_Dothraki                    1946 non-null uint8\n",
      "c_Free_Folk                   1946 non-null uint8\n",
      "c_Ghiscari                    1946 non-null uint8\n",
      "c_Ironborn                    1946 non-null uint8\n",
      "c_Northmen                    1946 non-null uint8\n",
      "c_Reach                       1946 non-null uint8\n",
      "c_Rivermen                    1946 non-null uint8\n",
      "c_Vale_mountain               1946 non-null uint8\n",
      "c_Valemen                     1946 non-null uint8\n",
      "c_Valyrian                    1946 non-null uint8\n",
      "c_Westerman                   1946 non-null uint8\n",
      "c_Westeros                    1946 non-null uint8\n",
      "c_na                          1946 non-null uint8\n",
      "c_other                       1946 non-null uint8\n",
      "h_Baratheon                   1946 non-null uint8\n",
      "h_Bolton                      1946 non-null uint8\n",
      "h_Botley                      1946 non-null uint8\n",
      "h_Bracken                     1946 non-null uint8\n",
      "h_Brave_Companions            1946 non-null uint8\n",
      "h_Brotherhood                 1946 non-null uint8\n",
      "h_Crakehall                   1946 non-null uint8\n",
      "h_Faith_of_the_Seven          1946 non-null uint8\n",
      "h_Florent                     1946 non-null uint8\n",
      "h_Frey                        1946 non-null uint8\n",
      "h_Greyjoy                     1946 non-null uint8\n",
      "h_Hightower                   1946 non-null uint8\n",
      "h_Lannister                   1946 non-null uint8\n",
      "h_Martell                     1946 non-null uint8\n",
      "h_Stark                       1946 non-null uint8\n",
      "h_Targaryen                   1946 non-null uint8\n",
      "h_Tully                       1946 non-null uint8\n",
      "h_Tyrell                      1946 non-null uint8\n",
      "h_Velaryon                    1946 non-null uint8\n",
      "h_Whent                       1946 non-null uint8\n",
      "h_na                          1946 non-null uint8\n",
      "h_other                       1946 non-null uint8\n",
      "h_the_Watch                   1946 non-null uint8\n",
      "DoD                           433 non-null float64\n",
      "reason                        1946 non-null int64\n",
      "Books                         1946 non-null int64\n",
      "currYear                      1946 non-null bool\n",
      "hasRelations                  1946 non-null int64\n",
      "dtypes: bool(1), float64(4), int64(11), uint8(49)\n",
      "memory usage: 323.1 KB\n"
     ]
    }
   ],
   "source": [
    "GOT.info()"
   ]
  },
  {
   "cell_type": "markdown",
   "metadata": {},
   "source": [
    "## Create training and test data"
   ]
  },
  {
   "cell_type": "code",
   "execution_count": 41,
   "metadata": {},
   "outputs": [],
   "source": [
    "x = GOT.drop(['isAlive'], axis=1)\n",
    "y = GOT['isAlive']"
   ]
  },
  {
   "cell_type": "code",
   "execution_count": 42,
   "metadata": {},
   "outputs": [],
   "source": [
    "X_train, X_test, y_train, y_test = train_test_split(x,\n",
    "                                                    y,\n",
    "                                                    test_size = 0.1,\n",
    "                                                    random_state = 508)"
   ]
  },
  {
   "cell_type": "markdown",
   "metadata": {},
   "source": [
    "## XGBOOST"
   ]
  },
  {
   "cell_type": "code",
   "execution_count": 70,
   "metadata": {},
   "outputs": [],
   "source": [
    "model = xgb.XGBClassifier(objective = 'binary:logistic',\n",
    "                          max_depth = 2,\n",
    "                          n_estimators = 215,\n",
    "                          learning_rate = 0.35,\n",
    "                          colsample_bytree = 0.8,\n",
    "                          min_child_weight = 1,\n",
    "                          reg_alpha = 0.9,\n",
    "                          reg_lambda = 1,\n",
    "                          eval_metric = 'auc').fit(X_train, y_train)"
   ]
  },
  {
   "cell_type": "code",
   "execution_count": 67,
   "metadata": {},
   "outputs": [],
   "source": [
    "model = xgb.XGBClassifier(objective = 'binary:logistic',\n",
    "                          max_depth = 3,\n",
    "                          n_estimators = 177,\n",
    "                          learning_rate = 0.29,\n",
    "                          colsample_bytree = 0.9,\n",
    "                          min_child_weight = 1,\n",
    "                          reg_alpha = 0.9,\n",
    "                          reg_lambda = 1,\n",
    "                          eval_metric = 'auc').fit(X_train, y_train)"
   ]
  },
  {
   "cell_type": "code",
   "execution_count": 71,
   "metadata": {
    "scrolled": true
   },
   "outputs": [
    {
     "name": "stdout",
     "output_type": "stream",
     "text": [
      "Testing score: 0.892308\n",
      "Training score: 0.890919\n",
      "Diff: -0.001388\n"
     ]
    }
   ],
   "source": [
    "score = model.score(X_test,\n",
    "                     y_test)\n",
    "train_score = model.score(X_train,\n",
    "                           y_train)\n",
    "diff = train_score - score\n",
    "\n",
    "print(\"Testing score: %f\" % (score))\n",
    "print(\"Training score: %f\" % (train_score))\n",
    "print(\"Diff: %f\" % (diff))"
   ]
  },
  {
   "cell_type": "code",
   "execution_count": 47,
   "metadata": {},
   "outputs": [
    {
     "data": {
      "image/png": "[encoded data removed]",
      "text/plain": [
       "<Figure size 1080x1080 with 1 Axes>"
      ]
     },
     "metadata": {},
     "output_type": "display_data"
    }
   ],
   "source": [
    "xgb.plot_importance(model)\n",
    "plt.rcParams['figure.figsize'] = [15,\n",
    "                                  15]\n",
    "plt.show()"
   ]
  },
  {
   "cell_type": "code",
   "execution_count": 49,
   "metadata": {},
   "outputs": [
    {
     "data": {
      "image/png": "[encoded data removed]",
      "text/plain": [
       "<Figure size 576x684 with 2 Axes>"
      ]
     },
     "metadata": {
      "needs_background": "light"
     },
     "output_type": "display_data"
    }
   ],
   "source": [
    "shap_values = shap.TreeExplainer(model).shap_values(X_test)\n",
    "\n",
    "shap.summary_plot(shap_values,\n",
    "                  X_test)"
   ]
  },
  {
   "cell_type": "code",
   "execution_count": 72,
   "metadata": {},
   "outputs": [
    {
     "name": "stdout",
     "output_type": "stream",
     "text": [
      "0.895901041460942\n"
     ]
    }
   ],
   "source": [
    "cv_xg_5 = cross_val_score(model,\n",
    "                        x,\n",
    "                        y,\n",
    "                        scoring = 'roc_auc',\n",
    "                        cv = 5)\n",
    "print(pd.np.mean(cv_xg_5))"
   ]
  },
  {
   "cell_type": "code",
   "execution_count": null,
   "metadata": {},
   "outputs": [],
   "source": []
  },
  {
   "cell_type": "markdown",
   "metadata": {},
   "source": [
    "# Output"
   ]
  },
  {
   "cell_type": "code",
   "execution_count": 73,
   "metadata": {},
   "outputs": [],
   "source": [
    "predicted = pd.DataFrame(model.predict(X_test))\n",
    "predicted.to_excel('output.xlsx')"
   ]
  },
  {
   "cell_type": "code",
   "execution_count": 55,
   "metadata": {},
   "outputs": [
    {
     "data": {
      "text/html": [
       "<div>\n",
       "<style scoped>\n",
       "    .dataframe tbody tr th:only-of-type {\n",
       "        vertical-align: middle;\n",
       "    }\n",
       "\n",
       "    .dataframe tbody tr th {\n",
       "        vertical-align: top;\n",
       "    }\n",
       "\n",
       "    .dataframe thead th {\n",
       "        text-align: right;\n",
       "    }\n",
       "</style>\n",
       "<table border=\"1\" class=\"dataframe\">\n",
       "  <thead>\n",
       "    <tr style=\"text-align: right;\">\n",
       "      <th></th>\n",
       "      <th>0</th>\n",
       "    </tr>\n",
       "  </thead>\n",
       "  <tbody>\n",
       "    <tr>\n",
       "      <th>0</th>\n",
       "      <td>0</td>\n",
       "    </tr>\n",
       "    <tr>\n",
       "      <th>1</th>\n",
       "      <td>1</td>\n",
       "    </tr>\n",
       "    <tr>\n",
       "      <th>2</th>\n",
       "      <td>1</td>\n",
       "    </tr>\n",
       "    <tr>\n",
       "      <th>3</th>\n",
       "      <td>0</td>\n",
       "    </tr>\n",
       "    <tr>\n",
       "      <th>4</th>\n",
       "      <td>1</td>\n",
       "    </tr>\n",
       "  </tbody>\n",
       "</table>\n",
       "</div>"
      ],
      "text/plain": [
       "   0\n",
       "0  0\n",
       "1  1\n",
       "2  1\n",
       "3  0\n",
       "4  1"
      ]
     },
     "execution_count": 55,
     "metadata": {},
     "output_type": "execute_result"
    }
   ],
   "source": [
    "predicted.head()"
   ]
  },
  {
   "cell_type": "code",
   "execution_count": null,
   "metadata": {},
   "outputs": [],
   "source": []
  }
 ],
 "metadata": {
  "kernelspec": {
   "display_name": "Python 3",
   "language": "python",
   "name": "python3"
  },
  "language_info": {
   "codemirror_mode": {
    "name": "ipython",
    "version": 3
   },
   "file_extension": ".py",
   "mimetype": "text/x-python",
   "name": "python",
   "nbconvert_exporter": "python",
   "pygments_lexer": "ipython3",
   "version": "3.6.8"
  }
 },
 "nbformat": 4,
 "nbformat_minor": 2
}
