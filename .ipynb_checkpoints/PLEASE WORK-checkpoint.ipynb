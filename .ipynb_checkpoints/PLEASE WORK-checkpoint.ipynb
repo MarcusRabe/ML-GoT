{
 "cells": [
  {
   "cell_type": "markdown",
   "metadata": {},
   "source": [
    "# Newborn Health\n",
    "## Challenge\n",
    "There are approximately 2,000 characters in A Song of Ice and Fire by George R.R. Martin. This book series was the inspiration for the HBO series Game of Thrones. Your tasks as a future master of analytics are to predict which characters in the series will live or die, and give data-driven recommendations on how to survive in Game of Thrones. This assignment will encompass feature engineering, variable selection, and model development. .\n",
    "\n",
    "## Deliverables\n",
    "\n",
    "### No 1\n",
    "Analysis Write Up\n",
    "- Summarize the problem\n",
    "- Present key insights that are actionable\n",
    "- Offer implementation recommendations\n",
    "- Maximum of 2 pages double-spaced (A.P.A format)\n",
    "\n",
    "### No 2\n",
    "Data Analysis and Analysis Code\n",
    "- Tell the story of your analysis through:\n",
    " - exploratory data analysis\n",
    " - feature treatment and engineering\n",
    " - utilizing appropriate modeling techniques\n",
    "- Code should:\n",
    " - be well commented\n",
    " - follow PEP 8 guidelines (see myCourses for more details)\n",
    " - run without errors\n",
    " - be submitted as a .py script\n",
    " \n",
    "### No 3\n",
    "Final Model and Model Code\n",
    "- Model will be assessed on:\n",
    " - AUC value on unseen data (randomly seeded)\n",
    " - appropriateness for the problem at hand\n",
    "- Code should:\n",
    " - be well commented\n",
    " - follow PEP 8 guidelines (see myCourses for more details)\n",
    " - run without errors\n",
    " - be submitted as a .py script\n",
    " \n",
    "## Carolina Rios\n",
    "\n",
    "\n",
    "## Data\n",
    "Data File: GOT_character_predictions.xlsx\n",
    "\n",
    "Data Dictionary: GOT_data_dictionary.xlsx\n",
    "\n",
    "### Data Dictionarty\n",
    "\n",
    "| variable | label       | description |\n",
    "|---|---|---|\n",
    "| 1        | S.No        | Character number (by order of appearance)               |\n",
    "\n",
    "| 2        | name        | mother's educ                   |\n",
    "| 3        | title       | month prenatal care began       |\n",
    "| 4        | male        | total number of prenatal visits |\n",
    "| 5        | culture     | father's age, years             |\n",
    "| 6        | dateOfBirth                | father's educ, years            |\n",
    "| 7        | mother                     | one minute apgar score          |\n",
    "| 8        | father                     | five minute apgar score         |\n",
    "| 9        | heir                       | avg cigarettes per day          |\n",
    "| 10       | house                      | avg drinks per week             |\n",
    "| 11       | spouse                     | 1 if baby male                  |\n",
    "| 12       | book1_A_Game_Of_Thrones    | 1 if mother white               |\n",
    "| 13       | mblbook2_A_Clash_Of_Kings  | 1 if mother black               |\n",
    "| 14       | book3_A_Storm_Of_Swords    | 1 if mother is other            |\n",
    "| 15       | book4_A_Feast_For_Crows    | 1 if father white               |\n",
    "| 16       | book5_A_Dance_with_dragons | 1 if father black               |\n",
    "| 17       | foth    | 1 if father is other            |\n",
    "| 18       | bwght   | birthweight, grams              |"
   ]
  },
  {
   "cell_type": "markdown",
   "metadata": {},
   "source": [
    "# Imports"
   ]
  },
  {
   "cell_type": "code",
   "execution_count": 30,
   "metadata": {},
   "outputs": [],
   "source": [
    "import pandas as pd\n",
    "import seaborn as sns\n",
    "import matplotlib.pyplot as plt\n",
    "import numpy as np\n",
    "#import graphviz\n",
    "import matplotlib.pylab as pl\n",
    "# prep\n",
    "from sklearn.model_selection import train_test_split\n",
    "from sklearn.model_selection import GridSearchCV\n",
    "# linear models\n",
    "from sklearn import linear_model\n",
    "from sklearn.linear_model import LinearRegression\n",
    "from sklearn.linear_model import LassoCV\n",
    "from sklearn.linear_model import LassoLarsCV\n",
    "from sklearn.linear_model import LassoLarsIC\n",
    "from sklearn.linear_model import MultiTaskLasso\n",
    "from sklearn.linear_model import Lasso\n",
    "from sklearn.linear_model import ElasticNet\n",
    "from sklearn.linear_model import lasso_path\n",
    "from sklearn.linear_model import enet_path\n",
    "import statsmodels.formula.api as smf\n",
    "# other models\n",
    "from sklearn import tree\n",
    "from sklearn.neighbors import KNeighborsRegressor\n",
    "import xgboost as xgb\n",
    "# metrics\n",
    "from sklearn import metrics\n",
    "from sklearn.metrics import r2_score\n",
    "#import shap\n",
    "\n",
    "%matplotlib inline"
   ]
  },
  {
   "cell_type": "markdown",
   "metadata": {},
   "source": [
    "# Load and prepare data"
   ]
  },
  {
   "cell_type": "markdown",
   "metadata": {},
   "source": [
    "## Load"
   ]
  },
  {
   "cell_type": "code",
   "execution_count": 31,
   "metadata": {},
   "outputs": [],
   "source": [
    "file = \"GOT_character_predictions.xlsx\"\n",
    "GOT = pd.read_excel(file)"
   ]
  },
  {
   "cell_type": "markdown",
   "metadata": {},
   "source": [
    "## Explore data"
   ]
  },
  {
   "cell_type": "code",
   "execution_count": 32,
   "metadata": {},
   "outputs": [
    {
     "data": {
      "text/html": [
       "<div>\n",
       "<style scoped>\n",
       "    .dataframe tbody tr th:only-of-type {\n",
       "        vertical-align: middle;\n",
       "    }\n",
       "\n",
       "    .dataframe tbody tr th {\n",
       "        vertical-align: top;\n",
       "    }\n",
       "\n",
       "    .dataframe thead th {\n",
       "        text-align: right;\n",
       "    }\n",
       "</style>\n",
       "<table border=\"1\" class=\"dataframe\">\n",
       "  <thead>\n",
       "    <tr style=\"text-align: right;\">\n",
       "      <th></th>\n",
       "      <th>S.No</th>\n",
       "      <th>name</th>\n",
       "      <th>title</th>\n",
       "      <th>male</th>\n",
       "      <th>culture</th>\n",
       "      <th>dateOfBirth</th>\n",
       "      <th>mother</th>\n",
       "      <th>father</th>\n",
       "      <th>heir</th>\n",
       "      <th>house</th>\n",
       "      <th>...</th>\n",
       "      <th>isAliveMother</th>\n",
       "      <th>isAliveFather</th>\n",
       "      <th>isAliveHeir</th>\n",
       "      <th>isAliveSpouse</th>\n",
       "      <th>isMarried</th>\n",
       "      <th>isNoble</th>\n",
       "      <th>age</th>\n",
       "      <th>numDeadRelations</th>\n",
       "      <th>popularity</th>\n",
       "      <th>isAlive</th>\n",
       "    </tr>\n",
       "  </thead>\n",
       "  <tbody>\n",
       "    <tr>\n",
       "      <th>0</th>\n",
       "      <td>1739</td>\n",
       "      <td>Imry Florent</td>\n",
       "      <td>Ser</td>\n",
       "      <td>1</td>\n",
       "      <td>NaN</td>\n",
       "      <td>NaN</td>\n",
       "      <td>NaN</td>\n",
       "      <td>NaN</td>\n",
       "      <td>NaN</td>\n",
       "      <td>House Florent</td>\n",
       "      <td>...</td>\n",
       "      <td>NaN</td>\n",
       "      <td>NaN</td>\n",
       "      <td>NaN</td>\n",
       "      <td>NaN</td>\n",
       "      <td>0</td>\n",
       "      <td>1</td>\n",
       "      <td>NaN</td>\n",
       "      <td>0</td>\n",
       "      <td>0.183946</td>\n",
       "      <td>0</td>\n",
       "    </tr>\n",
       "    <tr>\n",
       "      <th>1</th>\n",
       "      <td>1233</td>\n",
       "      <td>Merianne Frey</td>\n",
       "      <td>NaN</td>\n",
       "      <td>0</td>\n",
       "      <td>NaN</td>\n",
       "      <td>288.0</td>\n",
       "      <td>NaN</td>\n",
       "      <td>NaN</td>\n",
       "      <td>NaN</td>\n",
       "      <td>House Frey</td>\n",
       "      <td>...</td>\n",
       "      <td>NaN</td>\n",
       "      <td>NaN</td>\n",
       "      <td>NaN</td>\n",
       "      <td>NaN</td>\n",
       "      <td>0</td>\n",
       "      <td>0</td>\n",
       "      <td>17.0</td>\n",
       "      <td>0</td>\n",
       "      <td>0.083612</td>\n",
       "      <td>1</td>\n",
       "    </tr>\n",
       "    <tr>\n",
       "      <th>2</th>\n",
       "      <td>998</td>\n",
       "      <td>Dolf</td>\n",
       "      <td>NaN</td>\n",
       "      <td>0</td>\n",
       "      <td>Vale mountain clans</td>\n",
       "      <td>NaN</td>\n",
       "      <td>NaN</td>\n",
       "      <td>NaN</td>\n",
       "      <td>NaN</td>\n",
       "      <td>Stone Crows</td>\n",
       "      <td>...</td>\n",
       "      <td>NaN</td>\n",
       "      <td>NaN</td>\n",
       "      <td>NaN</td>\n",
       "      <td>NaN</td>\n",
       "      <td>0</td>\n",
       "      <td>0</td>\n",
       "      <td>NaN</td>\n",
       "      <td>0</td>\n",
       "      <td>0.016722</td>\n",
       "      <td>1</td>\n",
       "    </tr>\n",
       "    <tr>\n",
       "      <th>3</th>\n",
       "      <td>64</td>\n",
       "      <td>Quill</td>\n",
       "      <td>NaN</td>\n",
       "      <td>1</td>\n",
       "      <td>Braavosi</td>\n",
       "      <td>NaN</td>\n",
       "      <td>NaN</td>\n",
       "      <td>NaN</td>\n",
       "      <td>NaN</td>\n",
       "      <td>NaN</td>\n",
       "      <td>...</td>\n",
       "      <td>NaN</td>\n",
       "      <td>NaN</td>\n",
       "      <td>NaN</td>\n",
       "      <td>NaN</td>\n",
       "      <td>0</td>\n",
       "      <td>0</td>\n",
       "      <td>NaN</td>\n",
       "      <td>0</td>\n",
       "      <td>0.016722</td>\n",
       "      <td>1</td>\n",
       "    </tr>\n",
       "    <tr>\n",
       "      <th>4</th>\n",
       "      <td>334</td>\n",
       "      <td>Bandy</td>\n",
       "      <td>NaN</td>\n",
       "      <td>0</td>\n",
       "      <td>Northmen</td>\n",
       "      <td>NaN</td>\n",
       "      <td>NaN</td>\n",
       "      <td>NaN</td>\n",
       "      <td>NaN</td>\n",
       "      <td>House Stark</td>\n",
       "      <td>...</td>\n",
       "      <td>NaN</td>\n",
       "      <td>NaN</td>\n",
       "      <td>NaN</td>\n",
       "      <td>NaN</td>\n",
       "      <td>0</td>\n",
       "      <td>0</td>\n",
       "      <td>NaN</td>\n",
       "      <td>0</td>\n",
       "      <td>0.020067</td>\n",
       "      <td>1</td>\n",
       "    </tr>\n",
       "  </tbody>\n",
       "</table>\n",
       "<p>5 rows × 26 columns</p>\n",
       "</div>"
      ],
      "text/plain": [
       "   S.No           name title  male              culture  dateOfBirth mother  \\\n",
       "0  1739   Imry Florent   Ser     1                  NaN          NaN    NaN   \n",
       "1  1233  Merianne Frey   NaN     0                  NaN        288.0    NaN   \n",
       "2   998           Dolf   NaN     0  Vale mountain clans          NaN    NaN   \n",
       "3    64          Quill   NaN     1             Braavosi          NaN    NaN   \n",
       "4   334          Bandy   NaN     0             Northmen          NaN    NaN   \n",
       "\n",
       "  father heir          house  ... isAliveMother  isAliveFather  isAliveHeir  \\\n",
       "0    NaN  NaN  House Florent  ...           NaN            NaN          NaN   \n",
       "1    NaN  NaN     House Frey  ...           NaN            NaN          NaN   \n",
       "2    NaN  NaN    Stone Crows  ...           NaN            NaN          NaN   \n",
       "3    NaN  NaN            NaN  ...           NaN            NaN          NaN   \n",
       "4    NaN  NaN    House Stark  ...           NaN            NaN          NaN   \n",
       "\n",
       "   isAliveSpouse  isMarried  isNoble   age  numDeadRelations  popularity  \\\n",
       "0            NaN          0        1   NaN                 0    0.183946   \n",
       "1            NaN          0        0  17.0                 0    0.083612   \n",
       "2            NaN          0        0   NaN                 0    0.016722   \n",
       "3            NaN          0        0   NaN                 0    0.016722   \n",
       "4            NaN          0        0   NaN                 0    0.020067   \n",
       "\n",
       "   isAlive  \n",
       "0        0  \n",
       "1        1  \n",
       "2        1  \n",
       "3        1  \n",
       "4        1  \n",
       "\n",
       "[5 rows x 26 columns]"
      ]
     },
     "execution_count": 32,
     "metadata": {},
     "output_type": "execute_result"
    }
   ],
   "source": [
    "GOT.head()"
   ]
  },
  {
   "cell_type": "code",
   "execution_count": 33,
   "metadata": {},
   "outputs": [
    {
     "name": "stdout",
     "output_type": "stream",
     "text": [
      "<class 'pandas.core.frame.DataFrame'>\n",
      "RangeIndex: 1946 entries, 0 to 1945\n",
      "Data columns (total 26 columns):\n",
      "S.No                          1946 non-null int64\n",
      "name                          1946 non-null object\n",
      "title                         938 non-null object\n",
      "male                          1946 non-null int64\n",
      "culture                       677 non-null object\n",
      "dateOfBirth                   433 non-null float64\n",
      "mother                        21 non-null object\n",
      "father                        26 non-null object\n",
      "heir                          23 non-null object\n",
      "house                         1519 non-null object\n",
      "spouse                        276 non-null object\n",
      "book1_A_Game_Of_Thrones       1946 non-null int64\n",
      "book2_A_Clash_Of_Kings        1946 non-null int64\n",
      "book3_A_Storm_Of_Swords       1946 non-null int64\n",
      "book4_A_Feast_For_Crows       1946 non-null int64\n",
      "book5_A_Dance_with_Dragons    1946 non-null int64\n",
      "isAliveMother                 21 non-null float64\n",
      "isAliveFather                 26 non-null float64\n",
      "isAliveHeir                   23 non-null float64\n",
      "isAliveSpouse                 276 non-null float64\n",
      "isMarried                     1946 non-null int64\n",
      "isNoble                       1946 non-null int64\n",
      "age                           433 non-null float64\n",
      "numDeadRelations              1946 non-null int64\n",
      "popularity                    1946 non-null float64\n",
      "isAlive                       1946 non-null int64\n",
      "dtypes: float64(7), int64(11), object(8)\n",
      "memory usage: 395.4+ KB\n"
     ]
    }
   ],
   "source": [
    "GOT.info()"
   ]
  },
  {
   "cell_type": "code",
   "execution_count": 34,
   "metadata": {},
   "outputs": [
    {
     "name": "stdout",
     "output_type": "stream",
     "text": [
      "<class 'pandas.core.frame.DataFrame'>\n",
      "RangeIndex: 1946 entries, 0 to 1945\n",
      "Data columns (total 26 columns):\n",
      "S.No                          1946 non-null int64\n",
      "name                          1946 non-null object\n",
      "title                         938 non-null object\n",
      "male                          1946 non-null int64\n",
      "culture                       677 non-null object\n",
      "dateOfBirth                   433 non-null float64\n",
      "mother                        21 non-null object\n",
      "father                        26 non-null object\n",
      "heir                          23 non-null object\n",
      "house                         1519 non-null object\n",
      "spouse                        276 non-null object\n",
      "book1_A_Game_Of_Thrones       1946 non-null int64\n",
      "book2_A_Clash_Of_Kings        1946 non-null int64\n",
      "book3_A_Storm_Of_Swords       1946 non-null int64\n",
      "book4_A_Feast_For_Crows       1946 non-null int64\n",
      "book5_A_Dance_with_Dragons    1946 non-null int64\n",
      "isAliveMother                 21 non-null float64\n",
      "isAliveFather                 26 non-null float64\n",
      "isAliveHeir                   23 non-null float64\n",
      "isAliveSpouse                 276 non-null float64\n",
      "isMarried                     1946 non-null int64\n",
      "isNoble                       1946 non-null int64\n",
      "age                           433 non-null float64\n",
      "numDeadRelations              1946 non-null int64\n",
      "popularity                    1946 non-null float64\n",
      "isAlive                       1946 non-null int64\n",
      "dtypes: float64(7), int64(11), object(8)\n",
      "memory usage: 395.4+ KB\n"
     ]
    }
   ],
   "source": [
    "x = GOT.info()"
   ]
  },
  {
   "cell_type": "code",
   "execution_count": 35,
   "metadata": {},
   "outputs": [
    {
     "name": "stdout",
     "output_type": "stream",
     "text": [
      "None\n"
     ]
    }
   ],
   "source": [
    "print(x)"
   ]
  },
  {
   "cell_type": "code",
   "execution_count": 36,
   "metadata": {},
   "outputs": [
    {
     "data": {
      "text/html": [
       "<div>\n",
       "<style scoped>\n",
       "    .dataframe tbody tr th:only-of-type {\n",
       "        vertical-align: middle;\n",
       "    }\n",
       "\n",
       "    .dataframe tbody tr th {\n",
       "        vertical-align: top;\n",
       "    }\n",
       "\n",
       "    .dataframe thead th {\n",
       "        text-align: right;\n",
       "    }\n",
       "</style>\n",
       "<table border=\"1\" class=\"dataframe\">\n",
       "  <thead>\n",
       "    <tr style=\"text-align: right;\">\n",
       "      <th></th>\n",
       "      <th>S.No</th>\n",
       "      <th>male</th>\n",
       "      <th>dateOfBirth</th>\n",
       "      <th>book1_A_Game_Of_Thrones</th>\n",
       "      <th>book2_A_Clash_Of_Kings</th>\n",
       "      <th>book3_A_Storm_Of_Swords</th>\n",
       "      <th>book4_A_Feast_For_Crows</th>\n",
       "      <th>book5_A_Dance_with_Dragons</th>\n",
       "      <th>isAliveMother</th>\n",
       "      <th>isAliveFather</th>\n",
       "      <th>isAliveHeir</th>\n",
       "      <th>isAliveSpouse</th>\n",
       "      <th>isMarried</th>\n",
       "      <th>isNoble</th>\n",
       "      <th>age</th>\n",
       "      <th>numDeadRelations</th>\n",
       "      <th>popularity</th>\n",
       "      <th>isAlive</th>\n",
       "    </tr>\n",
       "  </thead>\n",
       "  <tbody>\n",
       "    <tr>\n",
       "      <th>count</th>\n",
       "      <td>1946.00</td>\n",
       "      <td>1946.00</td>\n",
       "      <td>433.00</td>\n",
       "      <td>1946.0</td>\n",
       "      <td>1946.00</td>\n",
       "      <td>1946.00</td>\n",
       "      <td>1946.00</td>\n",
       "      <td>1946.00</td>\n",
       "      <td>21.00</td>\n",
       "      <td>26.00</td>\n",
       "      <td>23.00</td>\n",
       "      <td>276.00</td>\n",
       "      <td>1946.00</td>\n",
       "      <td>1946.00</td>\n",
       "      <td>433.00</td>\n",
       "      <td>1946.00</td>\n",
       "      <td>1946.00</td>\n",
       "      <td>1946.00</td>\n",
       "    </tr>\n",
       "    <tr>\n",
       "      <th>mean</th>\n",
       "      <td>973.50</td>\n",
       "      <td>0.62</td>\n",
       "      <td>1577.36</td>\n",
       "      <td>0.2</td>\n",
       "      <td>0.37</td>\n",
       "      <td>0.48</td>\n",
       "      <td>0.59</td>\n",
       "      <td>0.40</td>\n",
       "      <td>0.71</td>\n",
       "      <td>0.19</td>\n",
       "      <td>0.65</td>\n",
       "      <td>0.78</td>\n",
       "      <td>0.14</td>\n",
       "      <td>0.46</td>\n",
       "      <td>-1293.56</td>\n",
       "      <td>0.31</td>\n",
       "      <td>0.09</td>\n",
       "      <td>0.75</td>\n",
       "    </tr>\n",
       "    <tr>\n",
       "      <th>std</th>\n",
       "      <td>561.91</td>\n",
       "      <td>0.49</td>\n",
       "      <td>19565.41</td>\n",
       "      <td>0.4</td>\n",
       "      <td>0.48</td>\n",
       "      <td>0.50</td>\n",
       "      <td>0.49</td>\n",
       "      <td>0.49</td>\n",
       "      <td>0.46</td>\n",
       "      <td>0.40</td>\n",
       "      <td>0.49</td>\n",
       "      <td>0.42</td>\n",
       "      <td>0.35</td>\n",
       "      <td>0.50</td>\n",
       "      <td>19564.34</td>\n",
       "      <td>1.38</td>\n",
       "      <td>0.16</td>\n",
       "      <td>0.44</td>\n",
       "    </tr>\n",
       "    <tr>\n",
       "      <th>min</th>\n",
       "      <td>1.00</td>\n",
       "      <td>0.00</td>\n",
       "      <td>-28.00</td>\n",
       "      <td>0.0</td>\n",
       "      <td>0.00</td>\n",
       "      <td>0.00</td>\n",
       "      <td>0.00</td>\n",
       "      <td>0.00</td>\n",
       "      <td>0.00</td>\n",
       "      <td>0.00</td>\n",
       "      <td>0.00</td>\n",
       "      <td>0.00</td>\n",
       "      <td>0.00</td>\n",
       "      <td>0.00</td>\n",
       "      <td>-298001.00</td>\n",
       "      <td>0.00</td>\n",
       "      <td>0.00</td>\n",
       "      <td>0.00</td>\n",
       "    </tr>\n",
       "    <tr>\n",
       "      <th>25%</th>\n",
       "      <td>487.25</td>\n",
       "      <td>0.00</td>\n",
       "      <td>240.00</td>\n",
       "      <td>0.0</td>\n",
       "      <td>0.00</td>\n",
       "      <td>0.00</td>\n",
       "      <td>0.00</td>\n",
       "      <td>0.00</td>\n",
       "      <td>0.00</td>\n",
       "      <td>0.00</td>\n",
       "      <td>0.00</td>\n",
       "      <td>1.00</td>\n",
       "      <td>0.00</td>\n",
       "      <td>0.00</td>\n",
       "      <td>18.00</td>\n",
       "      <td>0.00</td>\n",
       "      <td>0.01</td>\n",
       "      <td>0.00</td>\n",
       "    </tr>\n",
       "    <tr>\n",
       "      <th>50%</th>\n",
       "      <td>973.50</td>\n",
       "      <td>1.00</td>\n",
       "      <td>268.00</td>\n",
       "      <td>0.0</td>\n",
       "      <td>0.00</td>\n",
       "      <td>0.00</td>\n",
       "      <td>1.00</td>\n",
       "      <td>0.00</td>\n",
       "      <td>1.00</td>\n",
       "      <td>0.00</td>\n",
       "      <td>1.00</td>\n",
       "      <td>1.00</td>\n",
       "      <td>0.00</td>\n",
       "      <td>0.00</td>\n",
       "      <td>27.00</td>\n",
       "      <td>0.00</td>\n",
       "      <td>0.03</td>\n",
       "      <td>1.00</td>\n",
       "    </tr>\n",
       "    <tr>\n",
       "      <th>75%</th>\n",
       "      <td>1459.75</td>\n",
       "      <td>1.00</td>\n",
       "      <td>285.00</td>\n",
       "      <td>0.0</td>\n",
       "      <td>1.00</td>\n",
       "      <td>1.00</td>\n",
       "      <td>1.00</td>\n",
       "      <td>1.00</td>\n",
       "      <td>1.00</td>\n",
       "      <td>0.00</td>\n",
       "      <td>1.00</td>\n",
       "      <td>1.00</td>\n",
       "      <td>0.00</td>\n",
       "      <td>1.00</td>\n",
       "      <td>50.00</td>\n",
       "      <td>0.00</td>\n",
       "      <td>0.09</td>\n",
       "      <td>1.00</td>\n",
       "    </tr>\n",
       "    <tr>\n",
       "      <th>max</th>\n",
       "      <td>1946.00</td>\n",
       "      <td>1.00</td>\n",
       "      <td>298299.00</td>\n",
       "      <td>1.0</td>\n",
       "      <td>1.00</td>\n",
       "      <td>1.00</td>\n",
       "      <td>1.00</td>\n",
       "      <td>1.00</td>\n",
       "      <td>1.00</td>\n",
       "      <td>1.00</td>\n",
       "      <td>1.00</td>\n",
       "      <td>1.00</td>\n",
       "      <td>1.00</td>\n",
       "      <td>1.00</td>\n",
       "      <td>100.00</td>\n",
       "      <td>15.00</td>\n",
       "      <td>1.00</td>\n",
       "      <td>1.00</td>\n",
       "    </tr>\n",
       "  </tbody>\n",
       "</table>\n",
       "</div>"
      ],
      "text/plain": [
       "          S.No     male  dateOfBirth  book1_A_Game_Of_Thrones  \\\n",
       "count  1946.00  1946.00       433.00                   1946.0   \n",
       "mean    973.50     0.62      1577.36                      0.2   \n",
       "std     561.91     0.49     19565.41                      0.4   \n",
       "min       1.00     0.00       -28.00                      0.0   \n",
       "25%     487.25     0.00       240.00                      0.0   \n",
       "50%     973.50     1.00       268.00                      0.0   \n",
       "75%    1459.75     1.00       285.00                      0.0   \n",
       "max    1946.00     1.00    298299.00                      1.0   \n",
       "\n",
       "       book2_A_Clash_Of_Kings  book3_A_Storm_Of_Swords  \\\n",
       "count                 1946.00                  1946.00   \n",
       "mean                     0.37                     0.48   \n",
       "std                      0.48                     0.50   \n",
       "min                      0.00                     0.00   \n",
       "25%                      0.00                     0.00   \n",
       "50%                      0.00                     0.00   \n",
       "75%                      1.00                     1.00   \n",
       "max                      1.00                     1.00   \n",
       "\n",
       "       book4_A_Feast_For_Crows  book5_A_Dance_with_Dragons  isAliveMother  \\\n",
       "count                  1946.00                     1946.00          21.00   \n",
       "mean                      0.59                        0.40           0.71   \n",
       "std                       0.49                        0.49           0.46   \n",
       "min                       0.00                        0.00           0.00   \n",
       "25%                       0.00                        0.00           0.00   \n",
       "50%                       1.00                        0.00           1.00   \n",
       "75%                       1.00                        1.00           1.00   \n",
       "max                       1.00                        1.00           1.00   \n",
       "\n",
       "       isAliveFather  isAliveHeir  isAliveSpouse  isMarried  isNoble  \\\n",
       "count          26.00        23.00         276.00    1946.00  1946.00   \n",
       "mean            0.19         0.65           0.78       0.14     0.46   \n",
       "std             0.40         0.49           0.42       0.35     0.50   \n",
       "min             0.00         0.00           0.00       0.00     0.00   \n",
       "25%             0.00         0.00           1.00       0.00     0.00   \n",
       "50%             0.00         1.00           1.00       0.00     0.00   \n",
       "75%             0.00         1.00           1.00       0.00     1.00   \n",
       "max             1.00         1.00           1.00       1.00     1.00   \n",
       "\n",
       "             age  numDeadRelations  popularity  isAlive  \n",
       "count     433.00           1946.00     1946.00  1946.00  \n",
       "mean    -1293.56              0.31        0.09     0.75  \n",
       "std     19564.34              1.38        0.16     0.44  \n",
       "min   -298001.00              0.00        0.00     0.00  \n",
       "25%        18.00              0.00        0.01     0.00  \n",
       "50%        27.00              0.00        0.03     1.00  \n",
       "75%        50.00              0.00        0.09     1.00  \n",
       "max       100.00             15.00        1.00     1.00  "
      ]
     },
     "execution_count": 36,
     "metadata": {},
     "output_type": "execute_result"
    }
   ],
   "source": [
    "GOT.describe().round(2)"
   ]
  },
  {
   "cell_type": "markdown",
   "metadata": {},
   "source": [
    "## Clean data\n",
    "\n",
    "First create new columns for na flags than explore the colums having nas one at a time and treat them."
   ]
  },
  {
   "cell_type": "code",
   "execution_count": 37,
   "metadata": {},
   "outputs": [
    {
     "data": {
      "text/plain": [
       "Ser                                       384\n",
       "Maester                                    39\n",
       "Archmaester                                21\n",
       "Lord                                       20\n",
       "Septon                                     18\n",
       "Winterfell                                 17\n",
       "Princess                                   16\n",
       "Lady                                       12\n",
       "Septa                                      10\n",
       "Lord Commander of the Night's Watch         9\n",
       "King in the North                           9\n",
       "Prince                                      9\n",
       "Cupbearer                                   8\n",
       "Grand Maester                               8\n",
       "Khal                                        7\n",
       "Bloodrider                                  6\n",
       "King-Beyond-the-Wall                        5\n",
       "Prince of Dragonstone                       5\n",
       "Wisdom                                      5\n",
       "Eyrie                                       5\n",
       "Casterly Rock                               5\n",
       "Knight                                      5\n",
       "Harrenhal                                   4\n",
       "Hand of the King                            4\n",
       "Lord of the Tides                           4\n",
       "Riverrun                                    3\n",
       "Bitterbridge                                3\n",
       "Last Hearth                                 3\n",
       "Highgarden                                  3\n",
       "Castellan                                   3\n",
       "                                         ... \n",
       "Black Wind                                  1\n",
       "Sharp Point                                 1\n",
       "The LiddleLord Liddle                       1\n",
       "Prince of WinterfellHeir to Winterfell      1\n",
       "Crakehall                                   1\n",
       "Shatterstone                                1\n",
       "Wyndhall                                    1\n",
       "Master of whisperers                        1\n",
       "Felwood                                     1\n",
       "Mistress of whisperers                      1\n",
       "Redfort                                     1\n",
       "Lord of the Iron Islands                    1\n",
       "Blue Grace                                  1\n",
       "master of ships                             1\n",
       "Lord Seneschal                              1\n",
       "Horn Hill                                   1\n",
       "Godswife                                    1\n",
       "Arbor                                       1\n",
       "Lord of Atranta                             1\n",
       "Red Jester                                  1\n",
       "Lord of the Crossing                        1\n",
       "Broad Arch                                  1\n",
       "Lord of Kingsgrave                          1\n",
       "Magister                                    1\n",
       "Three Sisters                               1\n",
       "Lord of the Tor                             1\n",
       "Lord of Hammerhorn                          1\n",
       "Chief Undergaoler                           1\n",
       "Heart's Home                                1\n",
       "[1]                                         1\n",
       "Name: title, Length: 262, dtype: int64"
      ]
     },
     "execution_count": 37,
     "metadata": {},
     "output_type": "execute_result"
    }
   ],
   "source": [
    "GOT['title'].value_counts()"
   ]
  },
  {
   "cell_type": "code",
   "execution_count": null,
   "metadata": {},
   "outputs": [],
   "source": []
  },
  {
   "cell_type": "code",
   "execution_count": 38,
   "metadata": {
    "scrolled": true
   },
   "outputs": [
    {
     "data": {
      "text/plain": [
       "na                                        1008\n",
       "Ser                                        384\n",
       "Maester                                     39\n",
       "Archmaester                                 21\n",
       "Lord                                        20\n",
       "Septon                                      18\n",
       "Winterfell                                  17\n",
       "Princess                                    16\n",
       "Lady                                        12\n",
       "Septa                                       10\n",
       "King in the North                            9\n",
       "Prince                                       9\n",
       "Lord Commander of the Night's Watch          9\n",
       "Grand Maester                                8\n",
       "Cupbearer                                    8\n",
       "Khal                                         7\n",
       "Bloodrider                                   6\n",
       "Casterly Rock                                5\n",
       "King-Beyond-the-Wall                         5\n",
       "Wisdom                                       5\n",
       "Eyrie                                        5\n",
       "Prince of Dragonstone                        5\n",
       "Knight                                       5\n",
       "Hand of the King                             4\n",
       "Harrenhal                                    4\n",
       "Lord of the Tides                            4\n",
       "Queen                                        3\n",
       "Castellan                                    3\n",
       "First Ranger                                 3\n",
       "Brother                                      3\n",
       "                                          ... \n",
       "Black Wind                                   1\n",
       "Sharp Point                                  1\n",
       "The LiddleLord Liddle                        1\n",
       "Prince of WinterfellHeir to Winterfell       1\n",
       "Crakehall                                    1\n",
       "Shatterstone                                 1\n",
       "Wyndhall                                     1\n",
       "Master of whisperers                         1\n",
       "Felwood                                      1\n",
       "Mistress of whisperers                       1\n",
       "Redfort                                      1\n",
       "Lord of the Iron Islands                     1\n",
       "Blue Grace                                   1\n",
       "master of ships                              1\n",
       "Lord Seneschal                               1\n",
       "Horn Hill                                    1\n",
       "Godswife                                     1\n",
       "Arbor                                        1\n",
       "Lord of Atranta                              1\n",
       "Red Jester                                   1\n",
       "Lord of the Crossing                         1\n",
       "Broad Arch                                   1\n",
       "Lord of Kingsgrave                           1\n",
       "Magister                                     1\n",
       "Three Sisters                                1\n",
       "Lord of the Tor                              1\n",
       "Lord of Hammerhorn                           1\n",
       "Chief Undergaoler                            1\n",
       "Heart's Home                                 1\n",
       "[1]                                          1\n",
       "Name: title, Length: 263, dtype: int64"
      ]
     },
     "execution_count": 38,
     "metadata": {},
     "output_type": "execute_result"
    }
   ],
   "source": [
    "GOT['title']= GOT['title'].fillna('na')\n",
    "GOT['title'].value_counts()"
   ]
  },
  {
   "cell_type": "code",
   "execution_count": 39,
   "metadata": {},
   "outputs": [],
   "source": [
    "GOT['title'] = GOT['title'].apply(lambda x : x if x in ['Ser', 'na', 'Maester', 'Archmaester', 'Lord', 'Septon', 'Winterfell', 'Princess', 'Lady', 'Septa'] else 'other')"
   ]
  },
  {
   "cell_type": "code",
   "execution_count": 40,
   "metadata": {
    "scrolled": true
   },
   "outputs": [
    {
     "data": {
      "text/plain": [
       "(array([ 0,  1,  2,  3,  4,  5,  6,  7,  8,  9, 10]),\n",
       " <a list of 11 Text xticklabel objects>)"
      ]
     },
     "execution_count": 40,
     "metadata": {},
     "output_type": "execute_result"
    },
    {
     "data": {
      "image/png": "[encoded data removed]",
      "text/plain": [
       "<Figure size 432x288 with 1 Axes>"
      ]
     },
     "metadata": {
      "needs_background": "light"
     },
     "output_type": "display_data"
    }
   ],
   "source": [
    "sns.countplot(x='title', data=GOT)\n",
    "plt.xticks(rotation=45)"
   ]
  },
  {
   "cell_type": "code",
   "execution_count": 41,
   "metadata": {},
   "outputs": [],
   "source": [
    "dummies = pd.get_dummies(list(GOT['title']), drop_first=True)\n",
    "dummies = dummies.add_prefix('c_')\n",
    "GOT=pd.concat ([GOT.loc[:,:],dummies],axis=1)"
   ]
  },
  {
   "cell_type": "code",
   "execution_count": 42,
   "metadata": {
    "scrolled": true
   },
   "outputs": [
    {
     "data": {
      "text/plain": [
       "Northmen                   124\n",
       "Ironborn                   112\n",
       "Free Folk                   51\n",
       "Valyrian                    43\n",
       "Braavosi                    42\n",
       "Ghiscari                    25\n",
       "Dornish                     25\n",
       "Dothraki                    23\n",
       "Valemen                     19\n",
       "Rivermen                    19\n",
       "Reach                       16\n",
       "Vale mountain clans         15\n",
       "Dornishmen                  14\n",
       "Westeros                    12\n",
       "Free folk                   11\n",
       "Westerman                    9\n",
       "northmen                     9\n",
       "Tyroshi                      7\n",
       "Stormlands                   7\n",
       "Qartheen                     6\n",
       "Summer Isles                 5\n",
       "Ironmen                      5\n",
       "Northern mountain clans      5\n",
       "Crannogmen                   4\n",
       "Astapori                     4\n",
       "Lysene                       4\n",
       "Westermen                    4\n",
       "First Men                    3\n",
       "Pentoshi                     3\n",
       "Myrish                       3\n",
       "                          ... \n",
       "Wildling                     2\n",
       "Wildlings                    2\n",
       "Qohor                        2\n",
       "Lhazareen                    2\n",
       "Dorne                        2\n",
       "Riverlands                   2\n",
       "Sistermen                    2\n",
       "Westerlands                  2\n",
       "ironborn                     1\n",
       "Astapor                      1\n",
       "Norvoshi                     1\n",
       "Rhoynar                      1\n",
       "Ghiscaricari                 1\n",
       "Andal                        1\n",
       "Meereen                      1\n",
       "free folk                    1\n",
       "Asshai'i                     1\n",
       "Qarth                        1\n",
       "Lhazarene                    1\n",
       "Stormlander                  1\n",
       "Summer Islands               1\n",
       "Norvos                       1\n",
       "Summer Islander              1\n",
       "Andals                       1\n",
       "Braavos                      1\n",
       "Ibbenese                     1\n",
       "Reachmen                     1\n",
       "Vale                         1\n",
       "Naathi                       1\n",
       "The Reach                    1\n",
       "Name: culture, Length: 64, dtype: int64"
      ]
     },
     "execution_count": 42,
     "metadata": {},
     "output_type": "execute_result"
    }
   ],
   "source": [
    "GOT['culture'].value_counts()"
   ]
  },
  {
   "cell_type": "code",
   "execution_count": 43,
   "metadata": {},
   "outputs": [
    {
     "data": {
      "text/plain": [
       "na                         1269\n",
       "Northmen                    124\n",
       "Ironborn                    112\n",
       "Free Folk                    51\n",
       "Valyrian                     43\n",
       "Braavosi                     42\n",
       "Ghiscari                     25\n",
       "Dornish                      25\n",
       "Dothraki                     23\n",
       "Valemen                      19\n",
       "Rivermen                     19\n",
       "Reach                        16\n",
       "Vale mountain clans          15\n",
       "Dornishmen                   14\n",
       "Westeros                     12\n",
       "Free folk                    11\n",
       "Westerman                     9\n",
       "northmen                      9\n",
       "Tyroshi                       7\n",
       "Stormlands                    7\n",
       "Qartheen                      6\n",
       "Ironmen                       5\n",
       "Northern mountain clans       5\n",
       "Summer Isles                  5\n",
       "Astapori                      4\n",
       "Lysene                        4\n",
       "Westermen                     4\n",
       "Crannogmen                    4\n",
       "Meereenese                    3\n",
       "Lyseni                        3\n",
       "                           ... \n",
       "westermen                     2\n",
       "Qohor                         2\n",
       "Lhazareen                     2\n",
       "Dorne                         2\n",
       "Riverlands                    2\n",
       "Wildlings                     2\n",
       "Westerlands                   2\n",
       "Sistermen                     2\n",
       "Norvoshi                      1\n",
       "Rhoynar                       1\n",
       "Ghiscaricari                  1\n",
       "Andal                         1\n",
       "Meereen                       1\n",
       "free folk                     1\n",
       "Asshai'i                      1\n",
       "Qarth                         1\n",
       "Lhazarene                     1\n",
       "Stormlander                   1\n",
       "Andals                        1\n",
       "Norvos                        1\n",
       "Summer Islander               1\n",
       "The Reach                     1\n",
       "Braavos                       1\n",
       "Ibbenese                      1\n",
       "Reachmen                      1\n",
       "Vale                          1\n",
       "Naathi                        1\n",
       "Astapor                       1\n",
       "ironborn                      1\n",
       "Summer Islands                1\n",
       "Name: culture, Length: 65, dtype: int64"
      ]
     },
     "execution_count": 43,
     "metadata": {},
     "output_type": "execute_result"
    }
   ],
   "source": [
    "GOT['culture']= GOT['culture'].fillna('na')\n",
    "GOT['culture'].value_counts()"
   ]
  },
  {
   "cell_type": "code",
   "execution_count": 44,
   "metadata": {},
   "outputs": [],
   "source": [
    "GOT['culture']=GOT['culture'].replace({'northmen':'Northmen',\n",
    "                                       'Free folk':'Free_Folk',\n",
    "                                       'Free Folk':'Free_Folk',\n",
    "                                       'Vale mountain clans': 'Vale_mountain'}) "
   ]
  },
  {
   "cell_type": "code",
   "execution_count": 45,
   "metadata": {},
   "outputs": [],
   "source": [
    "dd = ['na', 'Northmen', 'Ironborn',  'Valyrian',\n",
    "                                                            'Braavosi', 'Ghiscari', 'Dornish', 'Dothraki', 'Valemen',\n",
    "                                                           'Rivermen', 'Reach', 'Dornishmen', 'Westeros', \n",
    "                                                           'Westerman', 'Free_Folk', 'Vale_mountain']\n",
    "GOT['culture'] = GOT['culture'].apply(lambda x : x if x in dd else 'other')"
   ]
  },
  {
   "cell_type": "code",
   "execution_count": 46,
   "metadata": {},
   "outputs": [
    {
     "data": {
      "text/plain": [
       "(array([ 0,  1,  2,  3,  4,  5,  6,  7,  8,  9, 10, 11, 12, 13, 14, 15, 16]),\n",
       " <a list of 17 Text xticklabel objects>)"
      ]
     },
     "execution_count": 46,
     "metadata": {},
     "output_type": "execute_result"
    },
    {
     "data": {
      "image/png": "[encoded data removed]",
      "text/plain": [
       "<Figure size 432x288 with 1 Axes>"
      ]
     },
     "metadata": {
      "needs_background": "light"
     },
     "output_type": "display_data"
    }
   ],
   "source": [
    "sns.countplot(x='culture', data=GOT)\n",
    "plt.xticks(rotation=45)"
   ]
  },
  {
   "cell_type": "code",
   "execution_count": 47,
   "metadata": {},
   "outputs": [],
   "source": [
    "dummies = pd.get_dummies(list(GOT['culture']), drop_first=True)\n",
    "dummies = dummies.add_prefix('a_')\n",
    "GOT=pd.concat ([GOT.loc[:,:],dummies],axis=1)"
   ]
  },
  {
   "cell_type": "code",
   "execution_count": 48,
   "metadata": {},
   "outputs": [
    {
     "data": {
      "text/plain": [
       "na                                427\n",
       "Night's Watch                     105\n",
       "House Frey                         97\n",
       "House Stark                        72\n",
       "House Targaryen                    62\n",
       "House Lannister                    49\n",
       "House Greyjoy                      41\n",
       "House Tyrell                       36\n",
       "House Martell                      29\n",
       "House Osgrey                       21\n",
       "Faith of the Seven                 17\n",
       "House Hightower                    16\n",
       "House Arryn                        16\n",
       "House Bracken                      14\n",
       "House Baratheon                    13\n",
       "House Florent                      13\n",
       "House Botley                       13\n",
       "House Bolton                       13\n",
       "Brave Companions                   12\n",
       "House Tully                        12\n",
       "House Whent                        11\n",
       "Brotherhood without banners        11\n",
       "House Velaryon                     11\n",
       "House Crakehall                    10\n",
       "House Seaworth                      9\n",
       "House Clegane                       9\n",
       "House Baratheon of Dragonstone      9\n",
       "Stone Crows                         9\n",
       "House Westerling                    9\n",
       "House Redwyne                       9\n",
       "                                 ... \n",
       "House Harclay                       1\n",
       "Thenn                               1\n",
       "House Hasty                         1\n",
       "House Trant                         1\n",
       "House Cupps                         1\n",
       "House of Kandaq                     1\n",
       "House Grell                         1\n",
       "House Farrow                        1\n",
       "Brotherhood without Banners         1\n",
       "House Gower                         1\n",
       "House Woolfield                     1\n",
       "House Boggs                         1\n",
       "House Lannister of Lannisport       1\n",
       "House Gargalen                      1\n",
       "House Wayn                          1\n",
       "House Farman                        1\n",
       "House Sawyer                        1\n",
       "House Templeton                     1\n",
       "House Rykker                        1\n",
       "House Erenford                      1\n",
       "House Yew                           1\n",
       "City Watch of King's Landing        1\n",
       "House Celtigar                      1\n",
       "House Leek                          1\n",
       "Company of the Cat                  1\n",
       "Antler Men                          1\n",
       "House Conklyn                       1\n",
       "House Varner                        1\n",
       "House Grandison                     1\n",
       "House Bettley                       1\n",
       "Name: house, Length: 348, dtype: int64"
      ]
     },
     "execution_count": 48,
     "metadata": {},
     "output_type": "execute_result"
    }
   ],
   "source": [
    "GOT['house']= GOT['house'].fillna('na')\n",
    "GOT['house'].value_counts()"
   ]
  },
  {
   "cell_type": "code",
   "execution_count": 49,
   "metadata": {},
   "outputs": [],
   "source": [
    "GOT['house']=GOT['house'].replace({\"Night's Watch\":\"the_Watch\",\n",
    "                                       'House Frey':'Frey',\n",
    "                                       'House Stark':'Stark',\n",
    "                                       'House Targaryen':'Targaryen',\n",
    "                                       'House Lannister':'Lannister',\n",
    "                                       'House Greyjoy':'Greyjoy',\n",
    "                                       'House Tyrell':'Tyrell',\n",
    "                                       'House Martell':'Martell',\n",
    "                                       'House Osgrey':'Osgrey ',\n",
    "                                       'Faith of the Seven':'Faith_of_the_Seven',\n",
    "                                       'House Hightower':'Hightower',\n",
    "                                       'House Arryn':'Arryn',\n",
    "                                       'House Bracken':'Bracken',\n",
    "                                       'House Florent':'Florent',\n",
    "                                       'House Botley':'Botley',\n",
    "                                       'House Baratheon':'Baratheon',\n",
    "                                       'House Bolton':'Bolton',\n",
    "                                       'Brave Companions':'Brave_Companions',\n",
    "                                       'House Tully':'Tully',\n",
    "                                       'House Whent':'Whent',\n",
    "                                       'Brotherhood without banners':'Brotherhood',\n",
    "                                       'House Velaryon':'Velaryon',\n",
    "                                       'House Crakehall':'Crakehall'})\n"
   ]
  },
  {
   "cell_type": "code",
   "execution_count": 50,
   "metadata": {},
   "outputs": [],
   "source": [
    "GOT['house'] = GOT['house'].apply(lambda x : x if x in ['na', \"the_Watch\", 'Frey', 'Stark', 'Targaryen',\n",
    "                                                            'Lannister', 'Greyjoy', 'Tyrell', 'Martell',\n",
    "                                                           'Osgrey', 'Faith_of_the_Seven','Hightower', 'Arryn', \n",
    "                                                            'Bracken', 'Florent', 'Botley', 'Baratheon',\n",
    "                                                        'Bolton', 'Brave_Companions', 'Tully', 'Whent', \n",
    "                                                        'Brotherhood', 'Velaryon', 'Crakehall'] else 'other')"
   ]
  },
  {
   "cell_type": "code",
   "execution_count": 51,
   "metadata": {},
   "outputs": [
    {
     "data": {
      "text/plain": [
       "(array([ 0,  1,  2,  3,  4,  5,  6,  7,  8,  9, 10, 11, 12, 13, 14, 15, 16,\n",
       "        17, 18, 19, 20, 21, 22, 23]), <a list of 24 Text xticklabel objects>)"
      ]
     },
     "execution_count": 51,
     "metadata": {},
     "output_type": "execute_result"
    },
    {
     "data": {
      "image/png": "[encoded data removed]",
      "text/plain": [
       "<Figure size 432x288 with 1 Axes>"
      ]
     },
     "metadata": {
      "needs_background": "light"
     },
     "output_type": "display_data"
    }
   ],
   "source": [
    "sns.countplot(x='house', data=GOT)\n",
    "plt.xticks(rotation=45)"
   ]
  },
  {
   "cell_type": "code",
   "execution_count": 52,
   "metadata": {},
   "outputs": [],
   "source": [
    "dummies = pd.get_dummies(list(GOT['house']), drop_first=True)\n",
    "dummies = dummies.add_prefix('r_')\n",
    "GOT=pd.concat ([GOT.loc[:,:],dummies],axis=1)"
   ]
  },
  {
   "cell_type": "code",
   "execution_count": 53,
   "metadata": {},
   "outputs": [],
   "source": [
    "GOT=GOT.drop(['mother', 'father', 'heir', 'spouse'], axis=1)"
   ]
  },
  {
   "cell_type": "code",
   "execution_count": 54,
   "metadata": {},
   "outputs": [],
   "source": [
    "GOT['DoD']= GOT.apply((lambda x: np.nan if (pd.isna(x['age']) or pd.isna(x['dateOfBirth'])) else x['dateOfBirth'] + x['age']), axis=1)"
   ]
  },
  {
   "cell_type": "code",
   "execution_count": 55,
   "metadata": {},
   "outputs": [
    {
     "data": {
      "text/plain": [
       "305.0    270\n",
       "299.0     36\n",
       "300.0     26\n",
       "130.0      8\n",
       "298.0      6\n",
       "283.0      5\n",
       "209.0      5\n",
       "196.0      4\n",
       "120.0      3\n",
       "297.0      3\n",
       "129.0      3\n",
       "271.0      3\n",
       "282.0      3\n",
       "105.0      2\n",
       "289.0      2\n",
       "133.0      2\n",
       "276.0      2\n",
       "278.0      2\n",
       "261.0      2\n",
       "252.0      2\n",
       "216.0      2\n",
       "264.0      2\n",
       "132.0      1\n",
       "248.0      1\n",
       "161.0      1\n",
       "256.0      1\n",
       "178.0      1\n",
       "220.0      1\n",
       "296.0      1\n",
       "272.0      1\n",
       "        ... \n",
       "47.0       1\n",
       "82.0       1\n",
       "43.0       1\n",
       "232.0      1\n",
       "114.0      1\n",
       "44.0       1\n",
       "281.0      1\n",
       "255.0      1\n",
       "285.0      1\n",
       "245.0      1\n",
       "191.0      1\n",
       "290.0      1\n",
       "247.0      1\n",
       "249.0      1\n",
       "257.0      1\n",
       "171.0      1\n",
       "211.0      1\n",
       "273.0      1\n",
       "284.0      1\n",
       "213.0      1\n",
       "221.0      1\n",
       "238.0      1\n",
       "150.0      1\n",
       "225.0      1\n",
       "260.0      1\n",
       "267.0      1\n",
       "291.0      1\n",
       "259.0      1\n",
       "215.0      1\n",
       "241.0      1\n",
       "Name: DoD, Length: 62, dtype: int64"
      ]
     },
     "execution_count": 55,
     "metadata": {},
     "output_type": "execute_result"
    }
   ],
   "source": [
    "GOT['DoD'].value_counts()"
   ]
  },
  {
   "cell_type": "code",
   "execution_count": 56,
   "metadata": {},
   "outputs": [],
   "source": [
    "variable = GOT['DoD'].value_counts()[GOT['DoD'].value_counts() > 3]\n",
    "GOT['reason'] = GOT['DoD'].apply(lambda x: 1 if x in variable.index else 0)"
   ]
  },
  {
   "cell_type": "markdown",
   "metadata": {},
   "source": [
    "### Date of Birth"
   ]
  },
  {
   "cell_type": "code",
   "execution_count": 57,
   "metadata": {},
   "outputs": [
    {
     "data": {
      "text/plain": [
       "count       433.000000\n",
       "mean       1577.364896\n",
       "std       19565.414460\n",
       "min         -28.000000\n",
       "25%         240.000000\n",
       "50%         268.000000\n",
       "75%         285.000000\n",
       "max      298299.000000\n",
       "Name: dateOfBirth, dtype: float64"
      ]
     },
     "execution_count": 57,
     "metadata": {},
     "output_type": "execute_result"
    }
   ],
   "source": [
    "GOT['dateOfBirth'].describe()"
   ]
  },
  {
   "cell_type": "code",
   "execution_count": 58,
   "metadata": {},
   "outputs": [
    {
     "ename": "NameError",
     "evalue": "name 'data' is not defined",
     "output_type": "error",
     "traceback": [
      "\u001b[0;31m---------------------------------------------------------------------------\u001b[0m",
      "\u001b[0;31mNameError\u001b[0m                                 Traceback (most recent call last)",
      "\u001b[0;32m<ipython-input-58-8b498105b452>\u001b[0m in \u001b[0;36m<module>\u001b[0;34m\u001b[0m\n\u001b[0;32m----> 1\u001b[0;31m \u001b[0mGOT\u001b[0m\u001b[0;34m[\u001b[0m\u001b[0;34m'dateOfBirth'\u001b[0m\u001b[0;34m]\u001b[0m \u001b[0;34m=\u001b[0m \u001b[0mdata\u001b[0m\u001b[0;34m[\u001b[0m\u001b[0;34m'dateOfBirth'\u001b[0m\u001b[0;34m]\u001b[0m\u001b[0;34m.\u001b[0m\u001b[0mapply\u001b[0m\u001b[0;34m(\u001b[0m\u001b[0;32mlambda\u001b[0m \u001b[0mx\u001b[0m\u001b[0;34m:\u001b[0m \u001b[0mx\u001b[0m \u001b[0;32mif\u001b[0m \u001b[0mnp\u001b[0m\u001b[0;34m.\u001b[0m\u001b[0misnan\u001b[0m\u001b[0;34m(\u001b[0m\u001b[0mx\u001b[0m\u001b[0;34m)\u001b[0m \u001b[0;32melse\u001b[0m \u001b[0;34m(\u001b[0m\u001b[0mint\u001b[0m\u001b[0;34m(\u001b[0m\u001b[0mstr\u001b[0m\u001b[0;34m(\u001b[0m\u001b[0mx\u001b[0m\u001b[0;34m)\u001b[0m\u001b[0;34m[\u001b[0m\u001b[0;34m:\u001b[0m\u001b[0;36m3\u001b[0m\u001b[0;34m]\u001b[0m\u001b[0;34m)\u001b[0m \u001b[0;32mif\u001b[0m \u001b[0;34m(\u001b[0m\u001b[0mlen\u001b[0m\u001b[0;34m(\u001b[0m\u001b[0mstr\u001b[0m\u001b[0;34m(\u001b[0m\u001b[0mx\u001b[0m\u001b[0;34m)\u001b[0m\u001b[0;34m.\u001b[0m\u001b[0msplit\u001b[0m\u001b[0;34m(\u001b[0m\u001b[0;34m'.'\u001b[0m\u001b[0;34m)\u001b[0m\u001b[0;34m[\u001b[0m\u001b[0;36m0\u001b[0m\u001b[0;34m]\u001b[0m\u001b[0;34m)\u001b[0m \u001b[0;34m>\u001b[0m \u001b[0;36m3\u001b[0m\u001b[0;34m)\u001b[0m \u001b[0;32melse\u001b[0m \u001b[0mint\u001b[0m\u001b[0;34m(\u001b[0m\u001b[0mstr\u001b[0m\u001b[0;34m(\u001b[0m\u001b[0mx\u001b[0m\u001b[0;34m)\u001b[0m\u001b[0;34m.\u001b[0m\u001b[0msplit\u001b[0m\u001b[0;34m(\u001b[0m\u001b[0;34m'.'\u001b[0m\u001b[0;34m)\u001b[0m\u001b[0;34m[\u001b[0m\u001b[0;36m0\u001b[0m\u001b[0;34m]\u001b[0m\u001b[0;34m)\u001b[0m\u001b[0;34m)\u001b[0m\u001b[0;34m)\u001b[0m\u001b[0;34m\u001b[0m\u001b[0;34m\u001b[0m\u001b[0m\n\u001b[0m",
      "\u001b[0;31mNameError\u001b[0m: name 'data' is not defined"
     ]
    }
   ],
   "source": [
    "GOT['dateOfBirth'] = data['dateOfBirth'].apply(lambda x: x if np.isnan(x) else (int(str(x)[:3]) if (len(str(x).split('.')[0]) > 3) else int(str(x).split('.')[0])))"
   ]
  },
  {
   "cell_type": "code",
   "execution_count": null,
   "metadata": {},
   "outputs": [],
   "source": [
    "GOT['dateOfBirth'].describe()"
   ]
  },
  {
   "cell_type": "markdown",
   "metadata": {},
   "source": [
    "### Number of books"
   ]
  },
  {
   "cell_type": "code",
   "execution_count": null,
   "metadata": {},
   "outputs": [],
   "source": [
    "GOT ['Books']= GOT['book1_A_Game_Of_Thrones']+GOT['book2_A_Clash_Of_Kings']+ GOT['book3_A_Storm_Of_Swords'] + GOT['book4_A_Feast_For_Crows'] + GOT['book5_A_Dance_with_Dragons']"
   ]
  },
  {
   "cell_type": "code",
   "execution_count": null,
   "metadata": {},
   "outputs": [],
   "source": [
    "a = GOT.groupby([\"Books\", \"isAlive\"]).count()[\"S.No\"].unstack().copy(deep = True)\n",
    "n = a.div(a.sum(axis = 1),\n",
    "          axis = 0).plot.barh(stacked = True,\n",
    "                              rot = 0,\n",
    "                              figsize = (15, 8),\n",
    "                              width = .5)\n",
    "_ = n.set(xticklabels = \"\",\n",
    "          xlim = [0, 1],\n",
    "          ylabel = \"No. of Books\",\n",
    "          xlabel = \"Proportion of Dead vs. Alive\"),\n",
    "n.legend([\"Dead\", \"Alive\"],\n",
    "         loc = \"upper right\",\n",
    "         ncol = 2,\n",
    "         borderpad = -.15)\n"
   ]
  },
  {
   "cell_type": "code",
   "execution_count": null,
   "metadata": {},
   "outputs": [],
   "source": [
    "GOT=GOT.drop(['isAliveMother', 'isAliveFather', 'isAliveHeir', 'isAliveSpouse','isMarried',\"isNoble\"], axis=1)"
   ]
  },
  {
   "cell_type": "markdown",
   "metadata": {},
   "source": [
    "### Age"
   ]
  },
  {
   "cell_type": "code",
   "execution_count": null,
   "metadata": {},
   "outputs": [],
   "source": [
    "GOT['age'] = GOT['age'].where(data['age'] > 0, GOT['DoD'] - GOT ['dateOfBirth'])"
   ]
  },
  {
   "cell_type": "code",
   "execution_count": null,
   "metadata": {},
   "outputs": [],
   "source": [
    "GOT['age'].describe()"
   ]
  },
  {
   "cell_type": "markdown",
   "metadata": {},
   "source": [
    "### Current year"
   ]
  },
  {
   "cell_type": "code",
   "execution_count": null,
   "metadata": {},
   "outputs": [],
   "source": [
    "GOT['currYear'] = GOT ['DoD'] == 305"
   ]
  },
  {
   "cell_type": "code",
   "execution_count": null,
   "metadata": {},
   "outputs": [],
   "source": [
    "sns.distplot(GOT['numDeadRelations'])"
   ]
  },
  {
   "cell_type": "markdown",
   "metadata": {},
   "source": [
    "### Has relations?"
   ]
  },
  {
   "cell_type": "code",
   "execution_count": null,
   "metadata": {},
   "outputs": [],
   "source": [
    "GOT['hasRelations'] = GOT['numDeadRelations'].apply(lambda x: 1 if x> 0 else 0)"
   ]
  },
  {
   "cell_type": "code",
   "execution_count": null,
   "metadata": {},
   "outputs": [],
   "source": [
    "a = GOT.groupby([\"hasRelations\", \"isAlive\"]).count()[\"S.No\"].unstack().copy(deep = True)\n",
    "n = a.div(a.sum(axis = 1),\n",
    "          axis = 0).plot.barh(stacked = True,\n",
    "                              rot = 0,\n",
    "                              figsize = (15, 8),\n",
    "                              width = .5)\n",
    "_ = n.set(xticklabels = \"\",\n",
    "          xlim = [0, 1],\n",
    "          ylabel = \"Has relations?\",\n",
    "          xlabel = \"Proportion of has Dead vs. Alive\"),\n",
    "n.legend([\"Dead\", \"Alive\"],\n",
    "         loc = \"upper right\",\n",
    "         ncol = 2,\n",
    "         borderpad = -.15)"
   ]
  },
  {
   "cell_type": "markdown",
   "metadata": {},
   "source": [
    "### Popularity"
   ]
  },
  {
   "cell_type": "markdown",
   "metadata": {},
   "source": [
    "No need to work on it"
   ]
  },
  {
   "cell_type": "code",
   "execution_count": null,
   "metadata": {},
   "outputs": [],
   "source": [
    "GOT.info()\n",
    "GOT=GOT.drop(['name','title','culture','house', 'S.No'], axis=1)"
   ]
  },
  {
   "cell_type": "code",
   "execution_count": null,
   "metadata": {},
   "outputs": [],
   "source": [
    "GOT.info()"
   ]
  },
  {
   "cell_type": "markdown",
   "metadata": {},
   "source": [
    "## Create training and test data"
   ]
  },
  {
   "cell_type": "code",
   "execution_count": null,
   "metadata": {},
   "outputs": [],
   "source": [
    "x = GOT.drop(['isAlive'], axis=1)\n",
    "y = GOT['isAlive']"
   ]
  },
  {
   "cell_type": "code",
   "execution_count": null,
   "metadata": {},
   "outputs": [],
   "source": [
    "X_train, X_test, y_train, y_test = train_test_split(x,\n",
    "                                                    y,\n",
    "                                                    test_size = 0.1,\n",
    "                                                    random_state = 508)"
   ]
  },
  {
   "cell_type": "markdown",
   "metadata": {},
   "source": [
    "## XGBOOST"
   ]
  },
  {
   "cell_type": "code",
   "execution_count": null,
   "metadata": {},
   "outputs": [],
   "source": [
    "model = xgb.XGBClassifier(objective = 'binary:logistic',\n",
    "                          max_depth = 3,\n",
    "                          n_estimators = 177,\n",
    "                          learning_rate = 0.29,\n",
    "                          colsample_bytree = 0.9,\n",
    "                          eval_metric = 'auc').fit(X_train, y_train)"
   ]
  },
  {
   "cell_type": "code",
   "execution_count": null,
   "metadata": {},
   "outputs": [],
   "source": [
    "score = model.score(X_test,\n",
    "                     y_test)\n",
    "train_score = model.score(X_train,\n",
    "                           y_train)\n",
    "diff = train_score - score\n",
    "\n",
    "print(\"Testing score: %f\" % (score))\n",
    "print(\"Training score: %f\" % (train_score))\n",
    "print(\"Diff: %f\" % (diff))"
   ]
  },
  {
   "cell_type": "code",
   "execution_count": null,
   "metadata": {},
   "outputs": [],
   "source": [
    "xgb.plot_importance(model)\n",
    "plt.rcParams['figure.figsize'] = [15,\n",
    "                                  15]\n",
    "plt.show()"
   ]
  },
  {
   "cell_type": "code",
   "execution_count": null,
   "metadata": {},
   "outputs": [],
   "source": [
    "shap_values = shap.TreeExplainer(model).shap_values(X_test_n)\n",
    "\n",
    "shap.summary_plot(shap_values,\n",
    "                  X_test_n)"
   ]
  },
  {
   "cell_type": "code",
   "execution_count": null,
   "metadata": {},
   "outputs": [],
   "source": []
  },
  {
   "cell_type": "code",
   "execution_count": null,
   "metadata": {},
   "outputs": [],
   "source": []
  },
  {
   "cell_type": "markdown",
   "metadata": {},
   "source": [
    "# Output"
   ]
  },
  {
   "cell_type": "code",
   "execution_count": null,
   "metadata": {},
   "outputs": [],
   "source": [
    "predicted = pd.DataFrame(xg_reg2.predict(X_test_n))\n",
    "predicted.to_excel('output.xlsx')"
   ]
  },
  {
   "cell_type": "code",
   "execution_count": null,
   "metadata": {},
   "outputs": [],
   "source": []
  },
  {
   "cell_type": "code",
   "execution_count": null,
   "metadata": {},
   "outputs": [],
   "source": []
  },
  {
   "cell_type": "code",
   "execution_count": null,
   "metadata": {},
   "outputs": [],
   "source": [
    "shap_values = shap.TreeExplainer(xg_reg2).shap_values(X_test_n)"
   ]
  },
  {
   "cell_type": "code",
   "execution_count": null,
   "metadata": {},
   "outputs": [],
   "source": [
    "shap.summary_plot(shap_values,\n",
    "                  X_test_n)"
   ]
  },
  {
   "cell_type": "markdown",
   "metadata": {},
   "source": [
    "As can be seen above the dataset is quite sparse, but the overall feature influence on the prediction makes sense."
   ]
  },
  {
   "cell_type": "code",
   "execution_count": null,
   "metadata": {},
   "outputs": [],
   "source": [
    "shap.dependence_plot(\"drink\",\n",
    "                     shap_values,\n",
    "                     X_test_n)"
   ]
  },
  {
   "cell_type": "code",
   "execution_count": null,
   "metadata": {},
   "outputs": [],
   "source": [
    "shap.dependence_plot(\"cigs\",\n",
    "                     shap_values,\n",
    "                     X_test_n)"
   ]
  },
  {
   "cell_type": "code",
   "execution_count": null,
   "metadata": {},
   "outputs": [],
   "source": [
    "shap.dependence_plot(\"mage\",\n",
    "                     shap_values,\n",
    "                     X_test_n)"
   ]
  },
  {
   "cell_type": "code",
   "execution_count": null,
   "metadata": {},
   "outputs": [],
   "source": [
    "shap.dependence_plot(\"feduc\",\n",
    "                     shap_values,\n",
    "                     X_test_n)"
   ]
  },
  {
   "cell_type": "code",
   "execution_count": null,
   "metadata": {},
   "outputs": [],
   "source": [
    "shap.dependence_plot(\"fage\",\n",
    "                     shap_values,\n",
    "                     X_test_n)"
   ]
  },
  {
   "cell_type": "code",
   "execution_count": null,
   "metadata": {},
   "outputs": [],
   "source": [
    "shap_interaction_values = shap.TreeExplainer(xg_reg2).shap_interaction_values(X_test_n)"
   ]
  },
  {
   "cell_type": "code",
   "execution_count": null,
   "metadata": {},
   "outputs": [],
   "source": [
    "shap.summary_plot(shap_interaction_values,\n",
    "                  X_test_n)"
   ]
  },
  {
   "cell_type": "code",
   "execution_count": null,
   "metadata": {},
   "outputs": [],
   "source": [
    "shap.dependence_plot(\n",
    "    (\"drink\", \"cigs\"),\n",
    "    shap_interaction_values,\n",
    "    X_test_n,\n",
    "    display_features = X_test_n\n",
    ")"
   ]
  },
  {
   "cell_type": "code",
   "execution_count": null,
   "metadata": {},
   "outputs": [],
   "source": [
    "shap.dependence_plot(\n",
    "    (\"drink\", \"fage\"),\n",
    "    shap_interaction_values,\n",
    "    X_test_n,\n",
    "    display_features = X_test_n\n",
    ")"
   ]
  },
  {
   "cell_type": "code",
   "execution_count": null,
   "metadata": {},
   "outputs": [],
   "source": [
    "tmp = np.abs(shap_interaction_values).sum(0)\n",
    "for i in range(tmp.shape[0]):\n",
    "    tmp[i,i] = 0\n",
    "inds = np.argsort(-tmp.sum(0))[:50]\n",
    "tmp2 = tmp[inds,:][:,inds]\n",
    "pl.figure(figsize=(12,12))\n",
    "pl.imshow(tmp2)\n",
    "pl.yticks(range(tmp2.shape[0]),\n",
    "          X_test_n.columns[inds],\n",
    "          rotation = 50.4,\n",
    "          horizontalalignment = \"right\")\n",
    "pl.xticks(range(tmp2.shape[0]),\n",
    "          X_test_n.columns[inds],\n",
    "          rotation = 50.4,\n",
    "          horizontalalignment = \"left\")\n",
    "pl.gca().xaxis.tick_top()\n",
    "pl.show()"
   ]
  },
  {
   "cell_type": "code",
   "execution_count": null,
   "metadata": {},
   "outputs": [],
   "source": []
  }
 ],
 "metadata": {
  "kernelspec": {
   "display_name": "Python 3",
   "language": "python",
   "name": "python3"
  },
  "language_info": {
   "codemirror_mode": {
    "name": "ipython",
    "version": 3
   },
   "file_extension": ".py",
   "mimetype": "text/x-python",
   "name": "python",
   "nbconvert_exporter": "python",
   "pygments_lexer": "ipython3",
   "version": "3.6.8"
  }
 },
 "nbformat": 4,
 "nbformat_minor": 2
}
